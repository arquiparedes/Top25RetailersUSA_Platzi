{
 "cells": [
  {
   "cell_type": "markdown",
   "source": "# Análisis de los 25 retailers más grandes de Estados Unidos",
   "metadata": {
    "cell_id": "1df879a0-53cd-4031-a50b-2c2fe17304a4",
    "tags": [],
    "is_collapsed": false,
    "deepnote_cell_type": "text-cell-h1"
   }
  },
  {
   "cell_type": "code",
   "metadata": {
    "tags": [],
    "cell_id": "3347a937-91c3-4305-b06c-213bb2f3bcaf",
    "deepnote_to_be_reexecuted": false,
    "source_hash": "24b26b86",
    "execution_start": 1649608824690,
    "execution_millis": 1574,
    "deepnote_cell_type": "code",
    "deepnote_cell_height": 135
   },
   "source": "import pandas as pd\nimport numpy as np\nimport matplotlib.pyplot as plt\nimport seaborn as sns",
   "execution_count": 1,
   "outputs": []
  },
  {
   "cell_type": "code",
   "metadata": {
    "cell_id": "081fdaf2-888a-4a54-9495-467464cfc400",
    "tags": [],
    "deepnote_to_be_reexecuted": false,
    "source_hash": "bb622a91",
    "execution_start": 1649608826267,
    "execution_millis": 5,
    "owner_user_id": "32945807-fd49-4528-a40b-5ea715cb3a52",
    "deepnote_cell_type": "code",
    "deepnote_cell_height": 81
   },
   "source": "df = pd.read_csv(\"./largest_us_retailers.csv\")",
   "execution_count": 2,
   "outputs": []
  },
  {
   "cell_type": "markdown",
   "source": "## I. Preguntas del negocio",
   "metadata": {
    "cell_id": "cc141631-e246-41c7-a56b-ad74255d674f",
    "tags": [],
    "is_collapsed": false,
    "deepnote_cell_type": "text-cell-h2"
   }
  },
  {
   "cell_type": "markdown",
   "source": "### 1. ¿Cuál es el promedio de ventas sin contar a la compañía dominante?",
   "metadata": {
    "cell_id": "b919b92e-0df3-4f54-b093-c1db040bc4aa",
    "tags": [],
    "deepnote_cell_type": "markdown",
    "deepnote_cell_height": 94
   }
  },
  {
   "cell_type": "code",
   "metadata": {
    "cell_id": "d0684d2b-d018-42ad-9b48-b545aae09eec",
    "tags": [],
    "deepnote_to_be_reexecuted": false,
    "source_hash": "ea82055a",
    "execution_start": 1649608826279,
    "execution_millis": 4,
    "deepnote_cell_type": "code",
    "deepnote_cell_height": 154.1875,
    "deepnote_output_heights": [
     21.1875
    ]
   },
   "source": "df_sorted = df.sort_values('Sales', ascending=0)\nmean_sales = round(df_sorted[\"Sales\"][1:].mean(),0)\nmean_sales",
   "execution_count": 3,
   "outputs": [
    {
     "output_type": "execute_result",
     "execution_count": 3,
     "data": {
      "text/plain": "46602.0"
     },
     "metadata": {}
    }
   ]
  },
  {
   "cell_type": "markdown",
   "source": "El promedio de ventas sin considerar a la compañía dominante es de **$46,602**.",
   "metadata": {
    "cell_id": "5e543ad9-e2f8-40a0-acfb-8cd797f9ccb6",
    "tags": [],
    "deepnote_cell_type": "markdown",
    "deepnote_cell_height": 52.390625
   }
  },
  {
   "cell_type": "markdown",
   "source": "### 2. ¿Cuánto dinero en ventas generó la mayoría de las compañías?",
   "metadata": {
    "cell_id": "1814847a-365e-4bae-9fb9-6bed9b874b37",
    "tags": [],
    "deepnote_cell_type": "markdown",
    "deepnote_cell_height": 94
   }
  },
  {
   "cell_type": "code",
   "metadata": {
    "cell_id": "7dd65ec3-d29c-441b-8304-6a43fc580051",
    "tags": [],
    "deepnote_to_be_reexecuted": false,
    "source_hash": "e447c164",
    "execution_start": 1649608826287,
    "execution_millis": 302,
    "deepnote_cell_type": "code",
    "deepnote_cell_height": 483.078125,
    "deepnote_output_heights": [
     null,
     21,
     264
    ]
   },
   "source": "sns.boxplot(df[\"Sales\"])",
   "execution_count": 4,
   "outputs": [
    {
     "name": "stderr",
     "text": "/shared-libs/python3.7/py/lib/python3.7/site-packages/seaborn/_decorators.py:43: FutureWarning: Pass the following variable as a keyword arg: x. From version 0.12, the only valid positional argument will be `data`, and passing other arguments without an explicit keyword will result in an error or misinterpretation.\n  FutureWarning\n",
     "output_type": "stream"
    },
    {
     "output_type": "execute_result",
     "execution_count": 4,
     "data": {
      "text/plain": "<AxesSubplot:xlabel='Sales'>"
     },
     "metadata": {}
    },
    {
     "data": {
      "text/plain": "<Figure size 432x288 with 1 Axes>",
      "image/png": "[encoded data removed]"
     },
     "metadata": {
      "needs_background": "light",
      "image/png": {
       "width": 352,
       "height": 262
      }
     },
     "output_type": "display_data"
    }
   ]
  },
  {
   "cell_type": "markdown",
   "source": "Como podemos ver hay un dato que se sale de nuestra gráfica de cajas, por lo tanto este dato lo podemos omitir, al ser un dato muy alejado de los demás.\n\nComo sabemos estas son las ventas de **Wallmart US** que están muy por arriba del resto de las compañías.\n\nVolvemos hacer el análisis sin los datos de Wallamrt US",
   "metadata": {
    "cell_id": "b74630c4-7c0f-44ed-9c42-cbddb05bab24",
    "tags": [],
    "deepnote_cell_type": "markdown",
    "deepnote_cell_height": 169.984375
   }
  },
  {
   "cell_type": "code",
   "metadata": {
    "cell_id": "7c1ab763-905f-4378-8a5b-2937752d66ef",
    "tags": [],
    "deepnote_to_be_reexecuted": false,
    "source_hash": "f949b2ac",
    "execution_start": 1649608826644,
    "execution_millis": 182,
    "deepnote_cell_type": "code",
    "deepnote_cell_height": 483.078125,
    "deepnote_output_heights": [
     null,
     21,
     264
    ]
   },
   "source": "sns.boxplot(df[1:][\"Sales\"])",
   "execution_count": 5,
   "outputs": [
    {
     "name": "stderr",
     "text": "/shared-libs/python3.7/py/lib/python3.7/site-packages/seaborn/_decorators.py:43: FutureWarning: Pass the following variable as a keyword arg: x. From version 0.12, the only valid positional argument will be `data`, and passing other arguments without an explicit keyword will result in an error or misinterpretation.\n  FutureWarning\n",
     "output_type": "stream"
    },
    {
     "output_type": "execute_result",
     "execution_count": 5,
     "data": {
      "text/plain": "<AxesSubplot:xlabel='Sales'>"
     },
     "metadata": {}
    },
    {
     "data": {
      "text/plain": "<Figure size 432x288 with 1 Axes>",
      "image/png": "[encoded data removed]"
     },
     "metadata": {
      "needs_background": "light",
      "image/png": {
       "width": 352,
       "height": 262
      }
     },
     "output_type": "display_data"
    }
   ]
  },
  {
   "cell_type": "code",
   "metadata": {
    "cell_id": "724f6d12-5fbc-4dfe-abaf-db04ebc7f55c",
    "tags": [],
    "deepnote_to_be_reexecuted": false,
    "source_hash": "c4e8d5e3",
    "execution_start": 1649608826836,
    "execution_millis": 8,
    "deepnote_cell_type": "code",
    "deepnote_cell_height": 148
   },
   "source": "Q1 = df[1:][\"Sales\"].quantile(q=0.25)\nQ3 = df[1:][\"Sales\"].quantile(q=0.75)\nprint(Q1, \" - \", Q3)",
   "execution_count": 6,
   "outputs": [
    {
     "name": "stdout",
     "text": "23860.0  -  71327.75\n",
     "output_type": "stream"
    }
   ]
  },
  {
   "cell_type": "markdown",
   "source": "Viendo la gráfica de caja y el rango intercuartil, también podemos definir que las mayorías de las compañías tienen ventas entre los **23,860 y los 71,327.75** millones de dolares.\n\nVamos a ver en rangos más pequeños de ventas, donde se agrupa la mayor cantidad de compañías.",
   "metadata": {
    "cell_id": "640760c0-3781-4074-bd8d-c9de20215f6b",
    "tags": [],
    "deepnote_cell_type": "markdown",
    "deepnote_cell_height": 111.1875
   }
  },
  {
   "cell_type": "code",
   "metadata": {
    "cell_id": "7c7057cc-813b-4f93-8826-caed6cc738f9",
    "tags": [],
    "deepnote_to_be_reexecuted": false,
    "source_hash": "266b3eaa",
    "execution_start": 1649608826846,
    "execution_millis": 275,
    "deepnote_cell_type": "code",
    "deepnote_cell_height": 485,
    "deepnote_output_heights": [
     280
    ]
   },
   "source": "bins=[0, 100000, 200000, 300000, 400000, 500000, 600000, 700000]\nplt.hist(df['Sales'], bins)\nplt.xlabel('Ventas (Millones de Dolares)')\nplt.ylabel('Cantidad de Compañías')\nplt.title('Cantidad de Compañías por Ventas')\n\nplt.show()",
   "execution_count": 7,
   "outputs": [
    {
     "data": {
      "text/plain": "<Figure size 432x288 with 1 Axes>",
      "image/png": "[encoded data removed]"
     },
     "metadata": {
      "needs_background": "light",
      "image/png": {
       "width": 387,
       "height": 278
      }
     },
     "output_type": "display_data"
    }
   ]
  },
  {
   "cell_type": "markdown",
   "source": "La mayor cantidad de compañías tienen menos de **$100,000** millones en ventas.\nVamos a desglosar este grupo para determinar mejor cual es el rango de ventas en el que encaja la mayoría de las compañías. ",
   "metadata": {
    "cell_id": "f4875d2b-2c08-4938-84c8-879de9817684",
    "tags": [],
    "deepnote_cell_type": "markdown",
    "deepnote_cell_height": 97.1875
   }
  },
  {
   "cell_type": "code",
   "metadata": {
    "cell_id": "00010-bc0d066b-e1a2-47be-b980-76af41b473b0",
    "tags": [],
    "deepnote_to_be_reexecuted": false,
    "source_hash": "d3efeaf4",
    "allow_embed": false,
    "execution_start": 1649608827182,
    "execution_millis": 202,
    "deepnote_cell_type": "code",
    "deepnote_cell_height": 485,
    "deepnote_output_heights": [
     280
    ]
   },
   "source": "bins=[0, 10000, 20000, 30000, 40000, 50000, 60000, 70000, 80000, 90000, 100000]\nplt.hist(df['Sales'], bins)\nplt.xlabel('Ventas (Millones de Dolares)')\nplt.ylabel('Cantidad de Compañías')\nplt.title('Cantidad de Compañías por Ventas')\n\nplt.show()",
   "execution_count": 8,
   "outputs": [
    {
     "data": {
      "text/plain": "<Figure size 432x288 with 1 Axes>",
      "image/png": "[encoded data removed]"
     },
     "metadata": {
      "needs_background": "light",
      "image/png": {
       "width": 380,
       "height": 278
      }
     },
     "output_type": "display_data"
    }
   ]
  },
  {
   "cell_type": "markdown",
   "source": "La mayor cantidad de compañías generaron entre **20,000** y **30,000** millones de dolares en ventas ",
   "metadata": {
    "cell_id": "07edad89-a23d-4bb1-b906-21a491862749",
    "tags": [],
    "deepnote_cell_type": "markdown",
    "deepnote_cell_height": 52.390625
   }
  },
  {
   "cell_type": "markdown",
   "source": "### 3. ¿Cuántas tiendas tiene la mayoría de las compañías?",
   "metadata": {
    "cell_id": "9801295a-a27d-48af-ae87-c653cabd8f67",
    "tags": [],
    "deepnote_cell_type": "markdown",
    "deepnote_cell_height": 62
   }
  },
  {
   "cell_type": "code",
   "metadata": {
    "cell_id": "2ac23452-2060-46e8-836d-1482c500b1db",
    "tags": [],
    "deepnote_to_be_reexecuted": false,
    "source_hash": "3d85c52e",
    "execution_start": 1649608827421,
    "execution_millis": 140,
    "deepnote_cell_type": "code",
    "deepnote_cell_height": 483.078125,
    "deepnote_output_heights": [
     null,
     21,
     264
    ]
   },
   "source": "sns.boxplot(df[1:][\"Stores\"])",
   "execution_count": 9,
   "outputs": [
    {
     "name": "stderr",
     "text": "/shared-libs/python3.7/py/lib/python3.7/site-packages/seaborn/_decorators.py:43: FutureWarning: Pass the following variable as a keyword arg: x. From version 0.12, the only valid positional argument will be `data`, and passing other arguments without an explicit keyword will result in an error or misinterpretation.\n  FutureWarning\n",
     "output_type": "stream"
    },
    {
     "output_type": "execute_result",
     "execution_count": 9,
     "data": {
      "text/plain": "<AxesSubplot:xlabel='Stores'>"
     },
     "metadata": {}
    },
    {
     "data": {
      "text/plain": "<Figure size 432x288 with 1 Axes>",
      "image/png": "[encoded data removed]"
     },
     "metadata": {
      "needs_background": "light",
      "image/png": {
       "width": 352,
       "height": 262
      }
     },
     "output_type": "display_data"
    }
   ]
  },
  {
   "cell_type": "code",
   "metadata": {
    "cell_id": "1eae5b70-ea65-4ec4-8d61-1fdb6f85edfb",
    "tags": [],
    "deepnote_to_be_reexecuted": false,
    "source_hash": "627cf0ac",
    "execution_start": 1649608827569,
    "execution_millis": 2,
    "deepnote_cell_type": "code",
    "deepnote_cell_height": 148
   },
   "source": "Q1 = df[1:][\"Stores\"].quantile(q=0.25)\nQ3 = df[1:][\"Stores\"].quantile(q=0.75)\nprint(Q1, \" - \", Q3)",
   "execution_count": 10,
   "outputs": [
    {
     "name": "stdout",
     "text": "959.0  -  3640.75\n",
     "output_type": "stream"
    }
   ]
  },
  {
   "cell_type": "markdown",
   "source": "La mayoría de las compañías tienen entre 959 y 3640 tiendas.\n\nAdemás que existen 4 compañías que tienen muchas tiendas que se salen de los valores típicos\n\nVeamos más a detalle en que rango de tiendas se agrupa la mayor cantidad de compañías",
   "metadata": {
    "cell_id": "ccdca991-f48c-4961-ba9d-822d2cbfed07",
    "tags": [],
    "deepnote_cell_type": "markdown",
    "deepnote_cell_height": 125.1875
   }
  },
  {
   "cell_type": "code",
   "metadata": {
    "cell_id": "cfcc2261-f6a1-44d8-b8fa-184eec2a77ff",
    "tags": [],
    "deepnote_to_be_reexecuted": false,
    "source_hash": "17d76691",
    "execution_start": 1649608827588,
    "execution_millis": 280,
    "deepnote_cell_type": "code",
    "deepnote_cell_height": 485,
    "deepnote_output_heights": [
     280
    ]
   },
   "source": "bins=[0, 1000, 2000, 3000, 4000, 5000, 6000, 7000, 8000, 9000, 10000, 11000, 12000, 13000, 14000, 15000]\nplt.hist(df['Stores'], bins)\nplt.xlabel('Tiendas')\nplt.ylabel('Cantidad de Compañías')\nplt.title('Cantidad de Compañías por Cantidad de Tiendas')\n\nplt.show()",
   "execution_count": 11,
   "outputs": [
    {
     "data": {
      "text/plain": "<Figure size 432x288 with 1 Axes>",
      "image/png": "[encoded data removed]"
     },
     "metadata": {
      "needs_background": "light",
      "image/png": {
       "width": 377,
       "height": 278
      }
     },
     "output_type": "display_data"
    }
   ]
  },
  {
   "cell_type": "markdown",
   "source": "La mayoría de las compañías tienen entre **1,000** y **2,000** tiendas",
   "metadata": {
    "cell_id": "91f96706-da7f-446e-b036-6cd618a0712a",
    "tags": [],
    "deepnote_cell_type": "markdown",
    "deepnote_cell_height": 52.390625
   }
  },
  {
   "cell_type": "markdown",
   "source": "### 4. ¿La cantidad de tiendas está relacionada con la cantidad de ventas? Es decir, ¿si una empresa tiene más tiendas tendrá más dinero de ventas?",
   "metadata": {
    "cell_id": "c9b5de28-cd12-4088-9bc0-93df660401f3",
    "tags": [],
    "deepnote_cell_type": "markdown",
    "deepnote_cell_height": 126
   }
  },
  {
   "cell_type": "code",
   "metadata": {
    "cell_id": "72dda234-6fca-477e-a088-99682e9766a2",
    "tags": [],
    "deepnote_to_be_reexecuted": false,
    "source_hash": "3084efae",
    "execution_start": 1649608827926,
    "execution_millis": 850,
    "deepnote_cell_type": "code",
    "deepnote_cell_height": 521,
    "deepnote_output_heights": [
     280
    ]
   },
   "source": "y = df['Stores']\nx = df['Sales']\n\nplt.scatter(x, y)\nplt.xlabel('Ventas (Millones de Dolares)')\nplt.ylabel('Cantidad de Tiendas')\nplt.title('Relación entre Cantidad de Tiendas y Ventas')\n\nplt.show()",
   "execution_count": 12,
   "outputs": [
    {
     "data": {
      "text/plain": "<Figure size 432x288 with 1 Axes>",
      "image/png": "[encoded data removed]"
     },
     "metadata": {
      "needs_background": "light",
      "image/png": {
       "width": 401,
       "height": 278
      }
     },
     "output_type": "display_data"
    }
   ]
  },
  {
   "cell_type": "markdown",
   "source": "No existe una relación entre la cantidad de tiendas y las ventas. Por lo tanto no podemos determinar que al tener nuestra empresa más tiendas, tendrá una mayor cantidad de ventas.",
   "metadata": {
    "cell_id": "f6b23353-6b4d-478f-9310-ac3e47c5b4a5",
    "tags": [],
    "deepnote_cell_type": "markdown",
    "deepnote_cell_height": 74.796875
   }
  },
  {
   "cell_type": "markdown",
   "source": "### 5. ¿Cuál es el rango que existe entre las ventas?",
   "metadata": {
    "cell_id": "d296130b-b739-4424-8c5d-8dc8b6fc8ee5",
    "tags": [],
    "deepnote_cell_type": "markdown",
    "deepnote_cell_height": 62
   }
  },
  {
   "cell_type": "code",
   "metadata": {
    "cell_id": "277da6f7-0300-4156-91e5-9765eb1f3752",
    "tags": [],
    "deepnote_to_be_reexecuted": false,
    "source_hash": "65bc73da",
    "execution_start": 1649608828163,
    "execution_millis": 614,
    "deepnote_cell_type": "code",
    "deepnote_cell_height": 136.1875,
    "deepnote_output_heights": [
     21
    ]
   },
   "source": "rango = df[\"Sales\"].max() - df[\"Sales\"].min()\nrango",
   "execution_count": 13,
   "outputs": [
    {
     "output_type": "execute_result",
     "execution_count": 13,
     "data": {
      "text/plain": "641527"
     },
     "metadata": {}
    }
   ]
  },
  {
   "cell_type": "markdown",
   "source": "El rango entre las ventas es del **$641,527** millones de dolares.",
   "metadata": {
    "cell_id": "550cfcca-e011-4d2e-95b1-00b7d33925bd",
    "tags": [],
    "deepnote_cell_type": "markdown",
    "deepnote_cell_height": 52.390625
   }
  },
  {
   "cell_type": "markdown",
   "source": "Este rango muy amplio considerando que el promedio de ventas sin la compañia con mayores ventas es tan solo de **$46,602**.",
   "metadata": {
    "cell_id": "ebf2a9c8-c7c5-45df-8c9e-fc86ba696367",
    "tags": [],
    "deepnote_cell_type": "markdown",
    "deepnote_cell_height": 74.796875
   }
  },
  {
   "cell_type": "markdown",
   "source": "### 6. ¿Cuáles son las 5 empresas que más tiendas físicas tienen? ¿Cuáles de ellas están dentro de las 5 empresas que más ventas tuvieron?",
   "metadata": {
    "cell_id": "6c36ddc3-51ef-4017-a6f9-06cbb8b970e4",
    "tags": [],
    "deepnote_cell_type": "markdown",
    "deepnote_cell_height": 126
   }
  },
  {
   "cell_type": "code",
   "metadata": {
    "cell_id": "1295319d-09d0-42f0-9de0-ff0e689f400f",
    "tags": [],
    "deepnote_to_be_reexecuted": false,
    "source_hash": "49414832",
    "execution_start": 1649608828168,
    "execution_millis": 610,
    "deepnote_cell_type": "code",
    "deepnote_cell_height": 431
   },
   "source": "df_sorted_stores = df.sort_values('Stores', ascending=0)\ndf_sorted_stores_top5 = df_sorted_stores[:5]\ndf_sorted_stores_top5",
   "execution_count": 14,
   "outputs": [
    {
     "output_type": "execute_result",
     "execution_count": 14,
     "data": {
      "application/vnd.deepnote.dataframe.v3+json": {
       "column_count": 6,
       "row_count": 5,
       "columns": [
        {
         "name": "Company",
         "dtype": "object",
         "stats": {
          "unique_count": 5,
          "nan_count": 0,
          "categories": [
           {
            "name": "Dollar Tree",
            "count": 1
           },
           {
            "name": "Dollar General",
            "count": 1
           },
           {
            "name": "3 others",
            "count": 3
           }
          ]
         }
        },
        {
         "name": "Sales",
         "dtype": "int64",
         "stats": {
          "unique_count": 5,
          "nan_count": 0,
          "min": "21464",
          "max": "658119",
          "histogram": [
           {
            "bin_start": 21464,
            "bin_end": 85129.5,
            "count": 4
           },
           {
            "bin_start": 85129.5,
            "bin_end": 148795,
            "count": 0
           },
           {
            "bin_start": 148795,
            "bin_end": 212460.5,
            "count": 0
           },
           {
            "bin_start": 212460.5,
            "bin_end": 276126,
            "count": 0
           },
           {
            "bin_start": 276126,
            "bin_end": 339791.5,
            "count": 0
           },
           {
            "bin_start": 339791.5,
            "bin_end": 403457,
            "count": 0
           },
           {
            "bin_start": 403457,
            "bin_end": 467122.5,
            "count": 0
           },
           {
            "bin_start": 467122.5,
            "bin_end": 530788,
            "count": 0
           },
           {
            "bin_start": 530788,
            "bin_end": 594453.5,
            "count": 0
           },
           {
            "bin_start": 594453.5,
            "bin_end": 658119,
            "count": 1
           }
          ]
         }
        },
        {
         "name": "Stores",
         "dtype": "float64",
         "stats": {
          "unique_count": 5,
          "nan_count": 0,
          "min": "4574.0",
          "max": "14250.0",
          "histogram": [
           {
            "bin_start": 4574,
            "bin_end": 5541.6,
            "count": 1
           },
           {
            "bin_start": 5541.6,
            "bin_end": 6509.2,
            "count": 0
           },
           {
            "bin_start": 6509.2,
            "bin_end": 7476.8,
            "count": 0
           },
           {
            "bin_start": 7476.8,
            "bin_end": 8444.4,
            "count": 1
           },
           {
            "bin_start": 8444.4,
            "bin_end": 9412,
            "count": 0
           },
           {
            "bin_start": 9412,
            "bin_end": 10379.6,
            "count": 1
           },
           {
            "bin_start": 10379.6,
            "bin_end": 11347.2,
            "count": 0
           },
           {
            "bin_start": 11347.2,
            "bin_end": 12314.8,
            "count": 0
           },
           {
            "bin_start": 12314.8,
            "bin_end": 13282.4,
            "count": 0
           },
           {
            "bin_start": 13282.4,
            "bin_end": 14250,
            "count": 2
           }
          ]
         }
        },
        {
         "name": "Sales/Avg. Store",
         "dtype": "float64",
         "stats": {
          "unique_count": 5,
          "nan_count": 0,
          "min": "1.56391854",
          "max": "65.64972497",
          "histogram": [
           {
            "bin_start": 1.56391854,
            "bin_end": 7.972499182999998,
            "count": 2
           },
           {
            "bin_start": 7.972499182999998,
            "bin_end": 14.381079825999997,
            "count": 2
           },
           {
            "bin_start": 14.381079825999997,
            "bin_end": 20.789660468999994,
            "count": 0
           },
           {
            "bin_start": 20.789660468999994,
            "bin_end": 27.198241111999995,
            "count": 0
           },
           {
            "bin_start": 27.198241111999995,
            "bin_end": 33.606821755,
            "count": 0
           },
           {
            "bin_start": 33.606821755,
            "bin_end": 40.01540239799999,
            "count": 0
           },
           {
            "bin_start": 40.01540239799999,
            "bin_end": 46.42398304099999,
            "count": 0
           },
           {
            "bin_start": 46.42398304099999,
            "bin_end": 52.83256368399999,
            "count": 0
           },
           {
            "bin_start": 52.83256368399999,
            "bin_end": 59.24114432699999,
            "count": 0
           },
           {
            "bin_start": 59.24114432699999,
            "bin_end": 65.64972497,
            "count": 1
           }
          ]
         }
        },
        {
         "name": "Store Count Growth",
         "dtype": "float64",
         "stats": {
          "unique_count": 5,
          "nan_count": 0,
          "min": "-0.01051069618",
          "max": "0.2556621881",
          "histogram": [
           {
            "bin_start": -0.01051069618,
            "bin_end": 0.016106592248000005,
            "count": 2
           },
           {
            "bin_start": 0.016106592248000005,
            "bin_end": 0.042723880676000005,
            "count": 0
           },
           {
            "bin_start": 0.042723880676000005,
            "bin_end": 0.06934116910400001,
            "count": 0
           },
           {
            "bin_start": 0.06934116910400001,
            "bin_end": 0.09595845753200001,
            "count": 1
           },
           {
            "bin_start": 0.09595845753200001,
            "bin_end": 0.12257574596000001,
            "count": 0
           },
           {
            "bin_start": 0.12257574596000001,
            "bin_end": 0.14919303438800002,
            "count": 1
           },
           {
            "bin_start": 0.14919303438800002,
            "bin_end": 0.175810322816,
            "count": 0
           },
           {
            "bin_start": 0.175810322816,
            "bin_end": 0.20242761124400002,
            "count": 0
           },
           {
            "bin_start": 0.20242761124400002,
            "bin_end": 0.22904489967200004,
            "count": 0
           },
           {
            "bin_start": 0.22904489967200004,
            "bin_end": 0.2556621881,
            "count": 1
           }
          ]
         }
        },
        {
         "name": "Category",
         "dtype": "object",
         "stats": {
          "unique_count": 3,
          "nan_count": 0,
          "categories": [
           {
            "name": "Dollar Stores",
            "count": 2
           },
           {
            "name": "Drug Stores",
            "count": 2
           },
           {
            "name": "Supercenters",
            "count": 1
           }
          ]
         }
        },
        {
         "name": "_deepnote_index_column",
         "dtype": "int64"
        }
       ],
       "rows": [
        {
         "Company": "Dollar Tree",
         "Sales": 21464,
         "Stores": 14250,
         "Sales/Avg. Store": 1.56391854,
         "Store Count Growth": 0.07962724449,
         "Category": "Dollar Stores",
         "_deepnote_index_column": 20
        },
        {
         "Company": "Dollar General",
         "Sales": 22234,
         "Stores": 13350,
         "Sales/Avg. Store": 1.768884999,
         "Store Count Growth": 0.1324115701,
         "Category": "Dollar Stores",
         "_deepnote_index_column": 19
        },
        {
         "Company": "CVS incl. Target",
         "Sales": 77792,
         "Stores": 9813,
         "Sales/Avg. Store": 8.825958702,
         "Store Count Growth": 0.2556621881,
         "Category": "Drug Stores",
         "_deepnote_index_column": 5
        },
        {
         "Company": "Walgreen Boots",
         "Sales": 78924,
         "Stores": 8002,
         "Sales/Avg. Store": 9.81092672,
         "Store Count Growth": -0.01051069618,
         "Category": "Drug Stores",
         "_deepnote_index_column": 4
        },
        {
         "Company": "Walmart US",
         "Sales": 658119,
         "Stores": 4574,
         "Sales/Avg. Store": 65.64972497,
         "Store Count Growth": 0.01284322409,
         "Category": "Supercenters",
         "_deepnote_index_column": 0
        }
       ]
      },
      "text/plain": "             Company   Sales   Stores  Sales/Avg. Store  Store Count Growth  \\\n20       Dollar Tree   21464  14250.0          1.563919            0.079627   \n19    Dollar General   22234  13350.0          1.768885            0.132412   \n5   CVS incl. Target   77792   9813.0          8.825959            0.255662   \n4     Walgreen Boots   78924   8002.0          9.810927           -0.010511   \n0         Walmart US  658119   4574.0         65.649725            0.012843   \n\n         Category  \n20  Dollar Stores  \n19  Dollar Stores  \n5     Drug Stores  \n4     Drug Stores  \n0    Supercenters  ",
      "text/html": "<div>\n<style scoped>\n    .dataframe tbody tr th:only-of-type {\n        vertical-align: middle;\n    }\n\n    .dataframe tbody tr th {\n        vertical-align: top;\n    }\n\n    .dataframe thead th {\n        text-align: right;\n    }\n</style>\n<table border=\"1\" class=\"dataframe\">\n  <thead>\n    <tr style=\"text-align: right;\">\n      <th></th>\n      <th>Company</th>\n      <th>Sales</th>\n      <th>Stores</th>\n      <th>Sales/Avg. Store</th>\n      <th>Store Count Growth</th>\n      <th>Category</th>\n    </tr>\n  </thead>\n  <tbody>\n    <tr>\n      <th>20</th>\n      <td>Dollar Tree</td>\n      <td>21464</td>\n      <td>14250.0</td>\n      <td>1.563919</td>\n      <td>0.079627</td>\n      <td>Dollar Stores</td>\n    </tr>\n    <tr>\n      <th>19</th>\n      <td>Dollar General</td>\n      <td>22234</td>\n      <td>13350.0</td>\n      <td>1.768885</td>\n      <td>0.132412</td>\n      <td>Dollar Stores</td>\n    </tr>\n    <tr>\n      <th>5</th>\n      <td>CVS incl. Target</td>\n      <td>77792</td>\n      <td>9813.0</td>\n      <td>8.825959</td>\n      <td>0.255662</td>\n      <td>Drug Stores</td>\n    </tr>\n    <tr>\n      <th>4</th>\n      <td>Walgreen Boots</td>\n      <td>78924</td>\n      <td>8002.0</td>\n      <td>9.810927</td>\n      <td>-0.010511</td>\n      <td>Drug Stores</td>\n    </tr>\n    <tr>\n      <th>0</th>\n      <td>Walmart US</td>\n      <td>658119</td>\n      <td>4574.0</td>\n      <td>65.649725</td>\n      <td>0.012843</td>\n      <td>Supercenters</td>\n    </tr>\n  </tbody>\n</table>\n</div>"
     },
     "metadata": {}
    }
   ]
  },
  {
   "cell_type": "markdown",
   "source": "Las 5 compañías con más tiendas son **Dollar Tree (14,250 tiendas), Dollar General (13,350 tiendas), CVS incl. Target (9,813 tiendas), Walgreen Boots (8,002 tiendas) y Walmart US (4,574 tiendas)**",
   "metadata": {
    "cell_id": "63e8fd92-fcd0-4fba-baf3-ee88c4aa6ab0",
    "tags": [],
    "deepnote_cell_type": "markdown",
    "deepnote_cell_height": 74.796875
   }
  },
  {
   "cell_type": "code",
   "metadata": {
    "cell_id": "33edd6d7-a1b4-4dc7-a5fc-a1f98c2bcebd",
    "tags": [],
    "deepnote_to_be_reexecuted": false,
    "source_hash": "eaa46079",
    "execution_start": 1649608828260,
    "execution_millis": 519,
    "deepnote_cell_type": "code",
    "deepnote_cell_height": 272
   },
   "source": "df_sorted_stores_top5.merge(df_sorted[:5], how='inner')",
   "execution_count": 15,
   "outputs": [
    {
     "output_type": "execute_result",
     "execution_count": 15,
     "data": {
      "application/vnd.deepnote.dataframe.v3+json": {
       "column_count": 6,
       "row_count": 2,
       "columns": [
        {
         "name": "Company",
         "dtype": "object",
         "stats": {
          "unique_count": 2,
          "nan_count": 0,
          "categories": [
           {
            "name": "Walgreen Boots",
            "count": 1
           },
           {
            "name": "Walmart US",
            "count": 1
           }
          ]
         }
        },
        {
         "name": "Sales",
         "dtype": "int64",
         "stats": {
          "unique_count": 2,
          "nan_count": 0,
          "min": "78924",
          "max": "658119",
          "histogram": [
           {
            "bin_start": 78924,
            "bin_end": 136843.5,
            "count": 1
           },
           {
            "bin_start": 136843.5,
            "bin_end": 194763,
            "count": 0
           },
           {
            "bin_start": 194763,
            "bin_end": 252682.5,
            "count": 0
           },
           {
            "bin_start": 252682.5,
            "bin_end": 310602,
            "count": 0
           },
           {
            "bin_start": 310602,
            "bin_end": 368521.5,
            "count": 0
           },
           {
            "bin_start": 368521.5,
            "bin_end": 426441,
            "count": 0
           },
           {
            "bin_start": 426441,
            "bin_end": 484360.5,
            "count": 0
           },
           {
            "bin_start": 484360.5,
            "bin_end": 542280,
            "count": 0
           },
           {
            "bin_start": 542280,
            "bin_end": 600199.5,
            "count": 0
           },
           {
            "bin_start": 600199.5,
            "bin_end": 658119,
            "count": 1
           }
          ]
         }
        },
        {
         "name": "Stores",
         "dtype": "float64",
         "stats": {
          "unique_count": 2,
          "nan_count": 0,
          "min": "4574.0",
          "max": "8002.0",
          "histogram": [
           {
            "bin_start": 4574,
            "bin_end": 4916.8,
            "count": 1
           },
           {
            "bin_start": 4916.8,
            "bin_end": 5259.6,
            "count": 0
           },
           {
            "bin_start": 5259.6,
            "bin_end": 5602.4,
            "count": 0
           },
           {
            "bin_start": 5602.4,
            "bin_end": 5945.2,
            "count": 0
           },
           {
            "bin_start": 5945.2,
            "bin_end": 6288,
            "count": 0
           },
           {
            "bin_start": 6288,
            "bin_end": 6630.8,
            "count": 0
           },
           {
            "bin_start": 6630.8,
            "bin_end": 6973.6,
            "count": 0
           },
           {
            "bin_start": 6973.6,
            "bin_end": 7316.4,
            "count": 0
           },
           {
            "bin_start": 7316.4,
            "bin_end": 7659.200000000001,
            "count": 0
           },
           {
            "bin_start": 7659.200000000001,
            "bin_end": 8002,
            "count": 1
           }
          ]
         }
        },
        {
         "name": "Sales/Avg. Store",
         "dtype": "float64",
         "stats": {
          "unique_count": 2,
          "nan_count": 0,
          "min": "9.81092672",
          "max": "65.64972497",
          "histogram": [
           {
            "bin_start": 9.81092672,
            "bin_end": 15.394806544999998,
            "count": 1
           },
           {
            "bin_start": 15.394806544999998,
            "bin_end": 20.97868637,
            "count": 0
           },
           {
            "bin_start": 20.97868637,
            "bin_end": 26.562566194999995,
            "count": 0
           },
           {
            "bin_start": 26.562566194999995,
            "bin_end": 32.14644602,
            "count": 0
           },
           {
            "bin_start": 32.14644602,
            "bin_end": 37.730325844999996,
            "count": 0
           },
           {
            "bin_start": 37.730325844999996,
            "bin_end": 43.31420566999999,
            "count": 0
           },
           {
            "bin_start": 43.31420566999999,
            "bin_end": 48.898085495,
            "count": 0
           },
           {
            "bin_start": 48.898085495,
            "bin_end": 54.48196531999999,
            "count": 0
           },
           {
            "bin_start": 54.48196531999999,
            "bin_end": 60.06584514499999,
            "count": 0
           },
           {
            "bin_start": 60.06584514499999,
            "bin_end": 65.64972497,
            "count": 1
           }
          ]
         }
        },
        {
         "name": "Store Count Growth",
         "dtype": "float64",
         "stats": {
          "unique_count": 2,
          "nan_count": 0,
          "min": "-0.01051069618",
          "max": "0.01284322409",
          "histogram": [
           {
            "bin_start": -0.01051069618,
            "bin_end": -0.008175304153,
            "count": 1
           },
           {
            "bin_start": -0.008175304153,
            "bin_end": -0.005839912125999999,
            "count": 0
           },
           {
            "bin_start": -0.005839912125999999,
            "bin_end": -0.003504520098999998,
            "count": 0
           },
           {
            "bin_start": -0.003504520098999998,
            "bin_end": -0.0011691280719999982,
            "count": 0
           },
           {
            "bin_start": -0.0011691280719999982,
            "bin_end": 0.0011662639550000017,
            "count": 0
           },
           {
            "bin_start": 0.0011662639550000017,
            "bin_end": 0.0035016559820000032,
            "count": 0
           },
           {
            "bin_start": 0.0035016559820000032,
            "bin_end": 0.005837048009000001,
            "count": 0
           },
           {
            "bin_start": 0.005837048009000001,
            "bin_end": 0.008172440036000003,
            "count": 0
           },
           {
            "bin_start": 0.008172440036000003,
            "bin_end": 0.010507832063000004,
            "count": 0
           },
           {
            "bin_start": 0.010507832063000004,
            "bin_end": 0.01284322409,
            "count": 1
           }
          ]
         }
        },
        {
         "name": "Category",
         "dtype": "object",
         "stats": {
          "unique_count": 2,
          "nan_count": 0,
          "categories": [
           {
            "name": "Drug Stores",
            "count": 1
           },
           {
            "name": "Supercenters",
            "count": 1
           }
          ]
         }
        },
        {
         "name": "_deepnote_index_column",
         "dtype": "int64"
        }
       ],
       "rows": [
        {
         "Company": "Walgreen Boots",
         "Sales": 78924,
         "Stores": 8002,
         "Sales/Avg. Store": 9.81092672,
         "Store Count Growth": -0.01051069618,
         "Category": "Drug Stores",
         "_deepnote_index_column": 0
        },
        {
         "Company": "Walmart US",
         "Sales": 658119,
         "Stores": 4574,
         "Sales/Avg. Store": 65.64972497,
         "Store Count Growth": 0.01284322409,
         "Category": "Supercenters",
         "_deepnote_index_column": 1
        }
       ]
      },
      "text/plain": "          Company   Sales  Stores  Sales/Avg. Store  Store Count Growth  \\\n0  Walgreen Boots   78924  8002.0          9.810927           -0.010511   \n1      Walmart US  658119  4574.0         65.649725            0.012843   \n\n       Category  \n0   Drug Stores  \n1  Supercenters  ",
      "text/html": "<div>\n<style scoped>\n    .dataframe tbody tr th:only-of-type {\n        vertical-align: middle;\n    }\n\n    .dataframe tbody tr th {\n        vertical-align: top;\n    }\n\n    .dataframe thead th {\n        text-align: right;\n    }\n</style>\n<table border=\"1\" class=\"dataframe\">\n  <thead>\n    <tr style=\"text-align: right;\">\n      <th></th>\n      <th>Company</th>\n      <th>Sales</th>\n      <th>Stores</th>\n      <th>Sales/Avg. Store</th>\n      <th>Store Count Growth</th>\n      <th>Category</th>\n    </tr>\n  </thead>\n  <tbody>\n    <tr>\n      <th>0</th>\n      <td>Walgreen Boots</td>\n      <td>78924</td>\n      <td>8002.0</td>\n      <td>9.810927</td>\n      <td>-0.010511</td>\n      <td>Drug Stores</td>\n    </tr>\n    <tr>\n      <th>1</th>\n      <td>Walmart US</td>\n      <td>658119</td>\n      <td>4574.0</td>\n      <td>65.649725</td>\n      <td>0.012843</td>\n      <td>Supercenters</td>\n    </tr>\n  </tbody>\n</table>\n</div>"
     },
     "metadata": {}
    }
   ]
  },
  {
   "cell_type": "markdown",
   "source": "Las compañías que se repiten en el Top5 de ventas y el Top 5 de tiendas físicas son **Walgreen Boots y Walmart US**",
   "metadata": {
    "cell_id": "1cc7bd04-d957-4670-b8d4-3811864a490e",
    "tags": [],
    "deepnote_cell_type": "markdown",
    "deepnote_cell_height": 74.796875
   }
  },
  {
   "cell_type": "markdown",
   "source": "## II. Preguntas opcionales",
   "metadata": {
    "cell_id": "7d1d5db9-ad1d-4081-968b-bea1357e236a",
    "tags": [],
    "deepnote_cell_type": "markdown",
    "deepnote_cell_height": 70
   }
  },
  {
   "cell_type": "markdown",
   "source": "### 7. ¿Qué categoría de compañía generó más ventas?",
   "metadata": {
    "cell_id": "27e5ddcb-8674-4809-844e-8c3442430be1",
    "tags": [],
    "deepnote_cell_type": "markdown",
    "deepnote_cell_height": 62
   }
  },
  {
   "cell_type": "code",
   "metadata": {
    "cell_id": "fcc0ff72-f954-4023-b187-f43c7ecc77ce",
    "tags": [],
    "deepnote_to_be_reexecuted": false,
    "source_hash": "904a2861",
    "execution_start": 1649608828262,
    "execution_millis": 518,
    "deepnote_cell_type": "code",
    "deepnote_cell_height": 385,
    "deepnote_output_heights": [
     252
    ]
   },
   "source": "sales_category = df.groupby('Category')['Sales'].sum()\nsales_category = sales_category.sort_values(ascending=False)\nsales_category",
   "execution_count": 16,
   "outputs": [
    {
     "output_type": "execute_result",
     "execution_count": 16,
     "data": {
      "text/plain": "Category\nSupercenters             745919\nGrocery                  297164\nDrug Stores              184202\nHome Improvement         144287\nWarehouse Club            90048\nElectronic/Mail Order     71687\nWarehouse Clubs           56828\nDepartment Stores         45088\nDollar Stores             43698\nElectronics               34980\nApparel                   25012\nName: Sales, dtype: int64"
     },
     "metadata": {}
    }
   ]
  },
  {
   "cell_type": "code",
   "metadata": {
    "cell_id": "3dc5aae8-5142-4593-b846-e3ed90eef108",
    "tags": [],
    "deepnote_to_be_reexecuted": false,
    "source_hash": "a72c995f",
    "execution_start": 1649608828271,
    "execution_millis": 511,
    "deepnote_cell_type": "code",
    "deepnote_cell_height": 652,
    "deepnote_output_heights": [
     375
    ]
   },
   "source": "sales_category = df_sorted.groupby('Category').sum()\nsales_category[\"Percentage\"] = (sales_category[\"Sales\"]/sales_category[\"Sales\"].sum())*100\n#sales_category = sales_category.rename_axis('Category').reset_index()\nsales_category = sales_category.sort_values(\"Percentage\", ascending=False)\nsales_category = sales_category.rename_axis('Category').reset_index()\nplt.bar(sales_category[\"Category\"], sales_category[\"Sales\"])\nplt.xlabel('Categorías')\nplt.ylabel('Ventas (Millones de Dolares)')\nplt.title('Total de Ventas por Categoría')\nplt.xticks(rotation='vertical')\nplt.show()",
   "execution_count": 17,
   "outputs": [
    {
     "data": {
      "text/plain": "<Figure size 432x288 with 1 Axes>",
      "image/png": "[encoded data removed]"
     },
     "metadata": {
      "needs_background": "light",
      "image/png": {
       "width": 407,
       "height": 373
      }
     },
     "output_type": "display_data"
    }
   ]
  },
  {
   "cell_type": "code",
   "metadata": {
    "cell_id": "f460e9ad-98fc-4357-9bcc-be0072c33833",
    "tags": [],
    "deepnote_to_be_reexecuted": false,
    "source_hash": "4ec8e2c3",
    "execution_start": 1649608828695,
    "execution_millis": 88,
    "deepnote_cell_type": "code",
    "deepnote_cell_height": 136.1875,
    "deepnote_output_heights": [
     21
    ]
   },
   "source": "percentage_category = round(sales_category.Sales[0]/sales_category.Sales.sum()*100,2)\npercentage_category",
   "execution_count": 18,
   "outputs": [
    {
     "output_type": "execute_result",
     "execution_count": 18,
     "data": {
      "text/plain": "42.9"
     },
     "metadata": {}
    }
   ]
  },
  {
   "cell_type": "markdown",
   "source": "La categría que más vendió fue **Supercenters** con un **42.9%** del total de las ventas.",
   "metadata": {
    "cell_id": "5d588e07-9faa-4193-9247-e65d58f6d49c",
    "tags": [],
    "deepnote_cell_type": "markdown",
    "deepnote_cell_height": 52.390625
   }
  },
  {
   "cell_type": "markdown",
   "source": "Al conocer que Wallmart US tiene una diferencia en ventas tan grande con el resto de las compañías,hagamos nuevamente el análisis sin considerar a Wallmart US",
   "metadata": {
    "cell_id": "227c6c94-5e40-4c89-94c4-1e4c6bb20749",
    "tags": [],
    "deepnote_cell_type": "markdown",
    "deepnote_cell_height": 74.796875
   }
  },
  {
   "cell_type": "code",
   "metadata": {
    "cell_id": "611cfde8-ea03-4abd-b968-35d0b02ec043",
    "tags": [],
    "deepnote_to_be_reexecuted": false,
    "source_hash": "44dc257",
    "execution_start": 1649608828696,
    "execution_millis": 87,
    "deepnote_cell_type": "code",
    "deepnote_cell_height": 385,
    "deepnote_output_heights": [
     252
    ]
   },
   "source": "sales_category_no_wallmart = df_sorted[1:].groupby('Category')['Sales'].sum()\nsales_category_no_wallmart = sales_category_no_wallmart.sort_values(ascending=False)\nsales_category_no_wallmart",
   "execution_count": 19,
   "outputs": [
    {
     "output_type": "execute_result",
     "execution_count": 19,
     "data": {
      "text/plain": "Category\nGrocery                  297164\nDrug Stores              184202\nHome Improvement         144287\nWarehouse Club            90048\nSupercenters              87800\nElectronic/Mail Order     71687\nWarehouse Clubs           56828\nDepartment Stores         45088\nDollar Stores             43698\nElectronics               34980\nApparel                   25012\nName: Sales, dtype: int64"
     },
     "metadata": {}
    }
   ]
  },
  {
   "cell_type": "code",
   "metadata": {
    "cell_id": "922ca6b6-a7e1-45ce-be0d-57a4305110e7",
    "tags": [],
    "deepnote_to_be_reexecuted": false,
    "source_hash": "1f93d53",
    "execution_start": 1649608828697,
    "execution_millis": 319,
    "deepnote_table_state": {
     "pageSize": 10,
     "pageIndex": 0,
     "filters": [],
     "sortBy": []
    },
    "deepnote_table_loading": false,
    "deepnote_cell_type": "code",
    "deepnote_cell_height": 634,
    "deepnote_output_heights": [
     375
    ]
   },
   "source": "sales_category_no_wallmart = df_sorted[1:].groupby('Category').sum()\nsales_category_no_wallmart[\"Percentage\"] = (sales_category_no_wallmart[\"Sales\"]/sales_category_no_wallmart[\"Sales\"].sum())*100\nsales_category_no_wallmart = sales_category_no_wallmart.sort_values(\"Percentage\", ascending=False)\nsales_category_no_wallmart = sales_category_no_wallmart.rename_axis('Category').reset_index()\nplt.bar(sales_category_no_wallmart[\"Category\"], sales_category_no_wallmart[\"Sales\"])\nplt.xlabel('Categorías')\nplt.ylabel('Ventas (Millones de Dolares)')\nplt.title('Total de Ventas por Categoría')\nplt.xticks(rotation='vertical')\nplt.show()",
   "execution_count": 20,
   "outputs": [
    {
     "data": {
      "text/plain": "<Figure size 432x288 with 1 Axes>",
      "image/png": "[encoded data removed]"
     },
     "metadata": {
      "needs_background": "light",
      "image/png": {
       "width": 407,
       "height": 373
      }
     },
     "output_type": "display_data"
    }
   ]
  },
  {
   "cell_type": "code",
   "metadata": {
    "cell_id": "580c92b6-1097-4dec-83bc-65eeb1560c82",
    "tags": [],
    "deepnote_to_be_reexecuted": false,
    "source_hash": "207eab0e",
    "execution_start": 1649608829024,
    "execution_millis": 327,
    "deepnote_cell_type": "code",
    "deepnote_cell_height": 618,
    "deepnote_output_heights": [
     467
    ]
   },
   "source": "fig, ax1 = plt.subplots(figsize = (16,8))\nax1.pie(sales_category_no_wallmart[\"Percentage\"], labels = sales_category_no_wallmart[\"Category\"], autopct=\"%.2f%%\")\nplt.title('Distribución de Ventas por Categoría')\nplt.show()",
   "execution_count": 21,
   "outputs": [
    {
     "data": {
      "text/plain": "<Figure size 1152x576 with 1 Axes>",
      "image/png": "[encoded data removed]"
     },
     "metadata": {
      "image/png": {
       "width": 544,
       "height": 465
      }
     },
     "output_type": "display_data"
    }
   ]
  },
  {
   "cell_type": "markdown",
   "source": "Si eliminamos a Walmart US, la categoría con mayor ventas fue **Grocery**, con un **27.49%** del total de las ventas.",
   "metadata": {
    "cell_id": "440b0e74-b54b-4979-931c-b8f9d0068c9b",
    "tags": [],
    "deepnote_cell_type": "markdown",
    "deepnote_cell_height": 74.796875
   }
  },
  {
   "cell_type": "markdown",
   "source": "### 8. ¿Cuál es la compañía que en relación con su cantidad de tiendas físicas genera más ventas?",
   "metadata": {
    "cell_id": "33668883-9f01-485c-bdf9-822cd13ad952",
    "tags": [],
    "deepnote_cell_type": "markdown",
    "deepnote_cell_height": 94
   }
  },
  {
   "cell_type": "code",
   "metadata": {
    "cell_id": "903008ff-c22d-431e-8130-a954a94b16e8",
    "tags": [],
    "deepnote_to_be_reexecuted": false,
    "source_hash": "9716081e",
    "execution_start": 1649608829354,
    "execution_millis": 22,
    "deepnote_table_state": {
     "pageSize": 10,
     "pageIndex": 0,
     "filters": [],
     "sortBy": []
    },
    "deepnote_table_loading": false,
    "deepnote_cell_type": "code",
    "deepnote_cell_height": 431
   },
   "source": "df[\"Average Sales / Total Stores\"]=round(df.Sales / df.Stores, 2)\ndf_average_sales_stores = df.sort_values(\"Average Sales / Total Stores\", ascending=False)\ndf_average_sales_stores[['Company', 'Sales', 'Stores', 'Average Sales / Total Stores']].head(5)",
   "execution_count": 22,
   "outputs": [
    {
     "output_type": "execute_result",
     "execution_count": 22,
     "data": {
      "application/vnd.deepnote.dataframe.v3+json": {
       "column_count": 4,
       "row_count": 5,
       "columns": [
        {
         "name": "Company",
         "dtype": "object",
         "stats": {
          "unique_count": 5,
          "nan_count": 0,
          "categories": [
           {
            "name": "Costco",
            "count": 1
           },
           {
            "name": "Walmart US",
            "count": 1
           },
           {
            "name": "3 others",
            "count": 3
           }
          ]
         }
        },
        {
         "name": "Sales",
         "dtype": "int64",
         "stats": {
          "unique_count": 5,
          "nan_count": 0,
          "min": "16592",
          "max": "658119",
          "histogram": [
           {
            "bin_start": 16592,
            "bin_end": 80744.7,
            "count": 3
           },
           {
            "bin_start": 80744.7,
            "bin_end": 144897.4,
            "count": 1
           },
           {
            "bin_start": 144897.4,
            "bin_end": 209050.09999999998,
            "count": 0
           },
           {
            "bin_start": 209050.09999999998,
            "bin_end": 273202.8,
            "count": 0
           },
           {
            "bin_start": 273202.8,
            "bin_end": 337355.5,
            "count": 0
           },
           {
            "bin_start": 337355.5,
            "bin_end": 401508.19999999995,
            "count": 0
           },
           {
            "bin_start": 401508.19999999995,
            "bin_end": 465660.89999999997,
            "count": 0
           },
           {
            "bin_start": 465660.89999999997,
            "bin_end": 529813.6,
            "count": 0
           },
           {
            "bin_start": 529813.6,
            "bin_end": 593966.2999999999,
            "count": 0
           },
           {
            "bin_start": 593966.2999999999,
            "bin_end": 658119,
            "count": 1
           }
          ]
         }
        },
        {
         "name": "Stores",
         "dtype": "float64",
         "stats": {
          "unique_count": 5,
          "nan_count": 0,
          "min": "231.0",
          "max": "4574.0",
          "histogram": [
           {
            "bin_start": 231,
            "bin_end": 665.3,
            "count": 4
           },
           {
            "bin_start": 665.3,
            "bin_end": 1099.6,
            "count": 0
           },
           {
            "bin_start": 1099.6,
            "bin_end": 1533.9,
            "count": 0
           },
           {
            "bin_start": 1533.9,
            "bin_end": 1968.2,
            "count": 0
           },
           {
            "bin_start": 1968.2,
            "bin_end": 2402.5,
            "count": 0
           },
           {
            "bin_start": 2402.5,
            "bin_end": 2836.8,
            "count": 0
           },
           {
            "bin_start": 2836.8,
            "bin_end": 3271.1,
            "count": 0
           },
           {
            "bin_start": 3271.1,
            "bin_end": 3705.4,
            "count": 0
           },
           {
            "bin_start": 3705.4,
            "bin_end": 4139.700000000001,
            "count": 0
           },
           {
            "bin_start": 4139.700000000001,
            "bin_end": 4574,
            "count": 1
           }
          ]
         }
        },
        {
         "name": "Average Sales / Total Stores",
         "dtype": "float64",
         "stats": {
          "unique_count": 5,
          "nan_count": 0,
          "min": "66.2",
          "max": "181.92",
          "histogram": [
           {
            "bin_start": 66.2,
            "bin_end": 77.772,
            "count": 2
           },
           {
            "bin_start": 77.772,
            "bin_end": 89.344,
            "count": 1
           },
           {
            "bin_start": 89.344,
            "bin_end": 100.916,
            "count": 0
           },
           {
            "bin_start": 100.916,
            "bin_end": 112.488,
            "count": 0
           },
           {
            "bin_start": 112.488,
            "bin_end": 124.06,
            "count": 0
           },
           {
            "bin_start": 124.06,
            "bin_end": 135.632,
            "count": 0
           },
           {
            "bin_start": 135.632,
            "bin_end": 147.204,
            "count": 1
           },
           {
            "bin_start": 147.204,
            "bin_end": 158.776,
            "count": 0
           },
           {
            "bin_start": 158.776,
            "bin_end": 170.348,
            "count": 0
           },
           {
            "bin_start": 170.348,
            "bin_end": 181.92,
            "count": 1
           }
          ]
         }
        },
        {
         "name": "_deepnote_index_column",
         "dtype": "int64"
        }
       ],
       "rows": [
        {
         "Company": "Costco",
         "Sales": 90048,
         "Stores": 495,
         "Average Sales / Total Stores": 181.92,
         "_deepnote_index_column": 2
        },
        {
         "Company": "Walmart US",
         "Sales": 658119,
         "Stores": 4574,
         "Average Sales / Total Stores": 143.88,
         "_deepnote_index_column": 0
        },
        {
         "Company": "Sam's Club",
         "Sales": 56828,
         "Stores": 655,
         "Average Sales / Total Stores": 86.76,
         "_deepnote_index_column": 10
        },
        {
         "Company": "Meijer",
         "Sales": 16592,
         "Stores": 231,
         "Average Sales / Total Stores": 71.83,
         "_deepnote_index_column": 24
        },
        {
         "Company": "HEB",
         "Sales": 21384,
         "Stores": 323,
         "Average Sales / Total Stores": 66.2,
         "_deepnote_index_column": 21
        }
       ]
      },
      "text/plain": "       Company   Sales  Stores  Average Sales / Total Stores\n2       Costco   90048   495.0                        181.92\n0   Walmart US  658119  4574.0                        143.88\n10  Sam's Club   56828   655.0                         86.76\n24      Meijer   16592   231.0                         71.83\n21         HEB   21384   323.0                         66.20",
      "text/html": "<div>\n<style scoped>\n    .dataframe tbody tr th:only-of-type {\n        vertical-align: middle;\n    }\n\n    .dataframe tbody tr th {\n        vertical-align: top;\n    }\n\n    .dataframe thead th {\n        text-align: right;\n    }\n</style>\n<table border=\"1\" class=\"dataframe\">\n  <thead>\n    <tr style=\"text-align: right;\">\n      <th></th>\n      <th>Company</th>\n      <th>Sales</th>\n      <th>Stores</th>\n      <th>Average Sales / Total Stores</th>\n    </tr>\n  </thead>\n  <tbody>\n    <tr>\n      <th>2</th>\n      <td>Costco</td>\n      <td>90048</td>\n      <td>495.0</td>\n      <td>181.92</td>\n    </tr>\n    <tr>\n      <th>0</th>\n      <td>Walmart US</td>\n      <td>658119</td>\n      <td>4574.0</td>\n      <td>143.88</td>\n    </tr>\n    <tr>\n      <th>10</th>\n      <td>Sam's Club</td>\n      <td>56828</td>\n      <td>655.0</td>\n      <td>86.76</td>\n    </tr>\n    <tr>\n      <th>24</th>\n      <td>Meijer</td>\n      <td>16592</td>\n      <td>231.0</td>\n      <td>71.83</td>\n    </tr>\n    <tr>\n      <th>21</th>\n      <td>HEB</td>\n      <td>21384</td>\n      <td>323.0</td>\n      <td>66.20</td>\n    </tr>\n  </tbody>\n</table>\n</div>"
     },
     "metadata": {}
    }
   ]
  },
  {
   "cell_type": "code",
   "metadata": {
    "cell_id": "fc92c2b8-8719-44a5-ba85-a8375deba621",
    "tags": [],
    "deepnote_to_be_reexecuted": false,
    "source_hash": "f28fb882",
    "execution_start": 1649608829379,
    "execution_millis": 443,
    "deepnote_cell_type": "code",
    "deepnote_cell_height": 536,
    "deepnote_output_heights": [
     349
    ]
   },
   "source": "plt.bar(df_average_sales_stores[\"Company\"], df_average_sales_stores[\"Average Sales / Total Stores\"])\nplt.xlabel('Compañías')\nplt.ylabel('Ventas Promedio por Tienda(Millones de Dolares)')\nplt.title('Ventas Promedio por Tienda')\nplt.xticks(rotation='vertical')\nplt.show()",
   "execution_count": 23,
   "outputs": [
    {
     "data": {
      "text/plain": "<Figure size 432x288 with 1 Axes>",
      "image/png": "[encoded data removed]"
     },
     "metadata": {
      "needs_background": "light",
      "image/png": {
       "width": 389,
       "height": 347
      }
     },
     "output_type": "display_data"
    }
   ]
  },
  {
   "cell_type": "markdown",
   "source": "La compañía que genera más ventas con relación a la cantidad de tiendas físicas es **Costco** la cual vende en promedio **$181.92 millones de dolares** por cada tienda física. Esto considerando el total de ventas, ya sean ventas en tiendas u online",
   "metadata": {
    "cell_id": "0893dbd7-b641-4a87-b68f-991aa221fb67",
    "tags": [],
    "deepnote_cell_type": "markdown",
    "deepnote_cell_height": 97.1875
   }
  },
  {
   "cell_type": "markdown",
   "source": "### 9. ¿Cuáles compañías venden de forma exclusivamente online? ¿Sus ventas destacan sobre las que también tienen tiendas físicas?",
   "metadata": {
    "cell_id": "e9a00ffe-de8a-41f0-98e7-67b905d0d14f",
    "tags": [],
    "deepnote_cell_type": "markdown",
    "deepnote_cell_height": 126
   }
  },
  {
   "cell_type": "code",
   "metadata": {
    "cell_id": "cb6d5d30-783d-44af-9c84-f31689cb3487",
    "tags": [],
    "deepnote_to_be_reexecuted": false,
    "source_hash": "3f18ebe",
    "execution_start": 1649608829824,
    "execution_millis": 33,
    "deepnote_cell_type": "code",
    "deepnote_cell_height": 290
   },
   "source": "df_online_only = df_sorted[df_sorted[\"Stores\"].isnull()]\ndf_online_only[[\"Company\", \"Sales\"]]",
   "execution_count": 24,
   "outputs": [
    {
     "output_type": "execute_result",
     "execution_count": 24,
     "data": {
      "application/vnd.deepnote.dataframe.v3+json": {
       "column_count": 2,
       "row_count": 2,
       "columns": [
        {
         "name": "Company",
         "dtype": "object",
         "stats": {
          "unique_count": 2,
          "nan_count": 0,
          "categories": [
           {
            "name": "Amazon",
            "count": 1
           },
           {
            "name": "Apple incl. Online",
            "count": 1
           }
          ]
         }
        },
        {
         "name": "Sales",
         "dtype": "int64",
         "stats": {
          "unique_count": 2,
          "nan_count": 0,
          "min": "37664",
          "max": "71687",
          "histogram": [
           {
            "bin_start": 37664,
            "bin_end": 41066.3,
            "count": 1
           },
           {
            "bin_start": 41066.3,
            "bin_end": 44468.6,
            "count": 0
           },
           {
            "bin_start": 44468.6,
            "bin_end": 47870.9,
            "count": 0
           },
           {
            "bin_start": 47870.9,
            "bin_end": 51273.2,
            "count": 0
           },
           {
            "bin_start": 51273.2,
            "bin_end": 54675.5,
            "count": 0
           },
           {
            "bin_start": 54675.5,
            "bin_end": 58077.8,
            "count": 0
           },
           {
            "bin_start": 58077.8,
            "bin_end": 61480.100000000006,
            "count": 0
           },
           {
            "bin_start": 61480.100000000006,
            "bin_end": 64882.4,
            "count": 0
           },
           {
            "bin_start": 64882.4,
            "bin_end": 68284.7,
            "count": 0
           },
           {
            "bin_start": 68284.7,
            "bin_end": 71687,
            "count": 1
           }
          ]
         }
        },
        {
         "name": "_deepnote_index_column",
         "dtype": "int64"
        }
       ],
       "rows": [
        {
         "Company": "Amazon",
         "Sales": 71687,
         "_deepnote_index_column": 6
        },
        {
         "Company": "Apple incl. Online",
         "Sales": 37664,
         "_deepnote_index_column": 11
        }
       ]
      },
      "text/plain": "               Company  Sales\n6               Amazon  71687\n11  Apple incl. Online  37664",
      "text/html": "<div>\n<style scoped>\n    .dataframe tbody tr th:only-of-type {\n        vertical-align: middle;\n    }\n\n    .dataframe tbody tr th {\n        vertical-align: top;\n    }\n\n    .dataframe thead th {\n        text-align: right;\n    }\n</style>\n<table border=\"1\" class=\"dataframe\">\n  <thead>\n    <tr style=\"text-align: right;\">\n      <th></th>\n      <th>Company</th>\n      <th>Sales</th>\n    </tr>\n  </thead>\n  <tbody>\n    <tr>\n      <th>6</th>\n      <td>Amazon</td>\n      <td>71687</td>\n    </tr>\n    <tr>\n      <th>11</th>\n      <td>Apple incl. Online</td>\n      <td>37664</td>\n    </tr>\n  </tbody>\n</table>\n</div>"
     },
     "metadata": {}
    }
   ]
  },
  {
   "cell_type": "markdown",
   "source": "Las compañías que venden exclusivamente online son **Amazon** y **Apple incl. Online**",
   "metadata": {
    "cell_id": "8ea054f0-a3f9-4de3-944d-9b058a3c2378",
    "tags": [],
    "deepnote_cell_type": "markdown",
    "deepnote_cell_height": 52.390625
   }
  },
  {
   "cell_type": "code",
   "metadata": {
    "cell_id": "2628d703-161e-4712-969d-4617e49d72ef",
    "tags": [],
    "deepnote_to_be_reexecuted": false,
    "source_hash": "6ef6c8f1",
    "execution_start": 1649608829877,
    "execution_millis": 2,
    "deepnote_cell_type": "code",
    "deepnote_cell_height": 600
   },
   "source": "df_sorted.head(10)[[\"Company\", \"Sales\"]]",
   "execution_count": 25,
   "outputs": [
    {
     "output_type": "execute_result",
     "execution_count": 25,
     "data": {
      "application/vnd.deepnote.dataframe.v3+json": {
       "column_count": 2,
       "row_count": 10,
       "columns": [
        {
         "name": "Company",
         "dtype": "object",
         "stats": {
          "unique_count": 10,
          "nan_count": 0,
          "categories": [
           {
            "name": "Walmart US",
            "count": 1
           },
           {
            "name": "Kroger",
            "count": 1
           },
           {
            "name": "8 others",
            "count": 8
           }
          ]
         }
        },
        {
         "name": "Sales",
         "dtype": "int64",
         "stats": {
          "unique_count": 10,
          "nan_count": 0,
          "min": "56829",
          "max": "658119",
          "histogram": [
           {
            "bin_start": 56829,
            "bin_end": 116958,
            "count": 9
           },
           {
            "bin_start": 116958,
            "bin_end": 177087,
            "count": 0
           },
           {
            "bin_start": 177087,
            "bin_end": 237216,
            "count": 0
           },
           {
            "bin_start": 237216,
            "bin_end": 297345,
            "count": 0
           },
           {
            "bin_start": 297345,
            "bin_end": 357474,
            "count": 0
           },
           {
            "bin_start": 357474,
            "bin_end": 417603,
            "count": 0
           },
           {
            "bin_start": 417603,
            "bin_end": 477732,
            "count": 0
           },
           {
            "bin_start": 477732,
            "bin_end": 537861,
            "count": 0
           },
           {
            "bin_start": 537861,
            "bin_end": 597990,
            "count": 0
           },
           {
            "bin_start": 597990,
            "bin_end": 658119,
            "count": 1
           }
          ]
         }
        },
        {
         "name": "_deepnote_index_column",
         "dtype": "int64"
        }
       ],
       "rows": [
        {
         "Company": "Walmart US",
         "Sales": 658119,
         "_deepnote_index_column": 0
        },
        {
         "Company": "Kroger",
         "Sales": 115037,
         "_deepnote_index_column": 1
        },
        {
         "Company": "Costco",
         "Sales": 90048,
         "_deepnote_index_column": 2
        },
        {
         "Company": "Home Depot",
         "Sales": 83976,
         "_deepnote_index_column": 3
        },
        {
         "Company": "Walgreen Boots",
         "Sales": 78924,
         "_deepnote_index_column": 4
        },
        {
         "Company": "CVS incl. Target",
         "Sales": 77792,
         "_deepnote_index_column": 5
        },
        {
         "Company": "Amazon",
         "Sales": 71687,
         "_deepnote_index_column": 6
        },
        {
         "Company": "Target",
         "Sales": 71208,
         "_deepnote_index_column": 7
        },
        {
         "Company": "Lowe's",
         "Sales": 60311,
         "_deepnote_index_column": 8
        },
        {
         "Company": "Albertsons",
         "Sales": 56829,
         "_deepnote_index_column": 9
        }
       ]
      },
      "text/plain": "            Company   Sales\n0        Walmart US  658119\n1            Kroger  115037\n2            Costco   90048\n3        Home Depot   83976\n4    Walgreen Boots   78924\n5  CVS incl. Target   77792\n6            Amazon   71687\n7            Target   71208\n8            Lowe's   60311\n9        Albertsons   56829",
      "text/html": "<div>\n<style scoped>\n    .dataframe tbody tr th:only-of-type {\n        vertical-align: middle;\n    }\n\n    .dataframe tbody tr th {\n        vertical-align: top;\n    }\n\n    .dataframe thead th {\n        text-align: right;\n    }\n</style>\n<table border=\"1\" class=\"dataframe\">\n  <thead>\n    <tr style=\"text-align: right;\">\n      <th></th>\n      <th>Company</th>\n      <th>Sales</th>\n    </tr>\n  </thead>\n  <tbody>\n    <tr>\n      <th>0</th>\n      <td>Walmart US</td>\n      <td>658119</td>\n    </tr>\n    <tr>\n      <th>1</th>\n      <td>Kroger</td>\n      <td>115037</td>\n    </tr>\n    <tr>\n      <th>2</th>\n      <td>Costco</td>\n      <td>90048</td>\n    </tr>\n    <tr>\n      <th>3</th>\n      <td>Home Depot</td>\n      <td>83976</td>\n    </tr>\n    <tr>\n      <th>4</th>\n      <td>Walgreen Boots</td>\n      <td>78924</td>\n    </tr>\n    <tr>\n      <th>5</th>\n      <td>CVS incl. Target</td>\n      <td>77792</td>\n    </tr>\n    <tr>\n      <th>6</th>\n      <td>Amazon</td>\n      <td>71687</td>\n    </tr>\n    <tr>\n      <th>7</th>\n      <td>Target</td>\n      <td>71208</td>\n    </tr>\n    <tr>\n      <th>8</th>\n      <td>Lowe's</td>\n      <td>60311</td>\n    </tr>\n    <tr>\n      <th>9</th>\n      <td>Albertsons</td>\n      <td>56829</td>\n    </tr>\n  </tbody>\n</table>\n</div>"
     },
     "metadata": {}
    }
   ]
  },
  {
   "cell_type": "markdown",
   "source": "En el Top 10 de empresas solo aparece **Amazon**, la cual se encuentra en la posición **#7**.\nMientras que **Apple incl. Online** aparece en la posición **#12**.",
   "metadata": {
    "cell_id": "2ab33095-8428-4c20-9edf-9667b8ea184f",
    "tags": [],
    "deepnote_cell_type": "markdown",
    "deepnote_cell_height": 74.796875
   }
  },
  {
   "cell_type": "markdown",
   "source": "Por lo tanto **NO** se puede decir que destaquen sobre las empresas que también venden a través de tiendas físicas.",
   "metadata": {
    "cell_id": "1bf4aa70-bd2a-4dd9-81f1-a7f6ccbc7f3e",
    "tags": [],
    "deepnote_cell_type": "markdown",
    "deepnote_cell_height": 74.796875
   }
  },
  {
   "cell_type": "markdown",
   "source": "## III. Tus propias preguntas",
   "metadata": {
    "cell_id": "58c80612-3fb2-4c71-9aab-813b121430a0",
    "tags": [],
    "deepnote_cell_type": "markdown",
    "deepnote_cell_height": 70
   }
  },
  {
   "cell_type": "markdown",
   "source": "### 10. Pregunta",
   "metadata": {
    "cell_id": "fa60966b-7d95-43f0-9a1e-201f1373f1be",
    "tags": [],
    "deepnote_cell_type": "markdown",
    "deepnote_cell_height": 62
   }
  },
  {
   "cell_type": "markdown",
   "source": "### ¿Existe una relación entre las ventas promedio por tienda y la cantidad de tiendas?",
   "metadata": {
    "cell_id": "5cc6a95f-faee-4f46-845c-6c095095b19f",
    "tags": [],
    "is_collapsed": false,
    "deepnote_cell_type": "text-cell-h3"
   }
  },
  {
   "cell_type": "code",
   "metadata": {
    "cell_id": "69e8934d-9172-43cc-99df-4173c9c9ad4a",
    "tags": [],
    "deepnote_to_be_reexecuted": false,
    "source_hash": "b4e8b337",
    "execution_start": 1649608829883,
    "execution_millis": 268,
    "deepnote_table_state": {
     "pageSize": 10,
     "pageIndex": 0,
     "filters": [],
     "sortBy": []
    },
    "deepnote_table_loading": false,
    "deepnote_cell_type": "code",
    "deepnote_cell_height": 521,
    "deepnote_output_heights": [
     280
    ]
   },
   "source": "y = df['Stores']\nx = df['Sales/Avg. Store']\n\nplt.scatter(x, y)\nplt.xlabel('Ventas Promedio por Tienda')\nplt.ylabel('Cantidad de Tiendas')\nplt.title('Relación entre Cantidad de Tiendas y Ventas Promedio por Tienda')\n\nplt.show()",
   "execution_count": 26,
   "outputs": [
    {
     "data": {
      "text/plain": "<Figure size 432x288 with 1 Axes>",
      "image/png": "[encoded data removed]"
     },
     "metadata": {
      "needs_background": "light",
      "image/png": {
       "width": 433,
       "height": 278
      }
     },
     "output_type": "display_data"
    }
   ]
  },
  {
   "cell_type": "markdown",
   "source": "**NO** se puede determinar que haya una relación entre la cantidad de tiendas y las ventas promedio por tiendas",
   "metadata": {
    "cell_id": "cb12a443-cdea-4502-abb7-8775b71c799d",
    "tags": [],
    "deepnote_cell_type": "markdown",
    "deepnote_cell_height": 74.796875
   }
  },
  {
   "cell_type": "markdown",
   "source": "### 11. Pregunta",
   "metadata": {
    "cell_id": "83e0e566-969d-4872-b32d-915ac945a370",
    "tags": [],
    "deepnote_cell_type": "markdown",
    "deepnote_cell_height": 62
   }
  },
  {
   "cell_type": "markdown",
   "source": "### ¿Cuáles son las Compañías líderes en el Top 3 de las Categorías?, considerando a todas las empresas.",
   "metadata": {
    "cell_id": "00051-8e3fac50-df94-44c0-9638-31daad8a6357",
    "tags": [],
    "is_collapsed": false,
    "deepnote_cell_type": "text-cell-h3"
   }
  },
  {
   "cell_type": "code",
   "metadata": {
    "cell_id": "04a6786e-fd39-4b41-b85c-0ecae003e4db",
    "tags": [],
    "deepnote_to_be_reexecuted": false,
    "source_hash": "53db0705",
    "execution_start": 1649608830162,
    "execution_millis": 3,
    "deepnote_cell_type": "code",
    "deepnote_cell_height": 148
   },
   "source": "df_category_1 = df[df.Category == sales_category.Category[0]]\ndf_category_1 = df_category_1.reset_index()\nprint(df_category_1.Company[0], \" - \", df_category_1.Category[0])",
   "execution_count": 27,
   "outputs": [
    {
     "name": "stdout",
     "text": "Walmart US  -  Supercenters\n",
     "output_type": "stream"
    }
   ]
  },
  {
   "cell_type": "code",
   "metadata": {
    "cell_id": "00056-13ee40a9-b6f0-471f-8d2b-2d0255d23521",
    "tags": [],
    "deepnote_to_be_reexecuted": false,
    "source_hash": "afaa0687",
    "allow_embed": false,
    "execution_start": 1649608830168,
    "execution_millis": 5,
    "deepnote_cell_type": "code",
    "deepnote_cell_height": 166
   },
   "source": "df_category_2 = df[df.Category == sales_category.Category[1]]\ndf_category_2 = df_category_2.reset_index()\nprint(df_category_2.Company[0], \" - \", df_category_2.Category[0])\n",
   "execution_count": 28,
   "outputs": [
    {
     "name": "stdout",
     "text": "Kroger  -  Grocery\n",
     "output_type": "stream"
    }
   ]
  },
  {
   "cell_type": "code",
   "metadata": {
    "cell_id": "00057-38f7b03f-5268-4dac-8118-8b485e204b16",
    "tags": [],
    "deepnote_to_be_reexecuted": false,
    "source_hash": "92a6b292",
    "allow_embed": false,
    "execution_start": 1649608830174,
    "execution_millis": 11,
    "deepnote_cell_type": "code",
    "deepnote_cell_height": 166
   },
   "source": "df_category_3 = df[df.Category == sales_category.Category[2]]\ndf_category_3 = df_category_3.reset_index()\nprint(df_category_3.Company[0], \" - \", df_category_3.Category[0])\n",
   "execution_count": 29,
   "outputs": [
    {
     "name": "stdout",
     "text": "Walgreen Boots  -  Drug Stores\n",
     "output_type": "stream"
    }
   ]
  },
  {
   "cell_type": "markdown",
   "source": "Las compañías líderes en las 3 principales categorías son:\n1. Wallmar US - Supercenters\n2. Kroger  -  Grocery\n3. Walgreen Boots  -  Drug Stores",
   "metadata": {
    "cell_id": "2bf3bee0-6c1d-43e7-b2e6-a18f5e2e36b8",
    "tags": [],
    "deepnote_cell_type": "markdown",
    "deepnote_cell_height": 153.59375
   }
  },
  {
   "cell_type": "markdown",
   "source": "### 12. Pregunta",
   "metadata": {
    "cell_id": "d5a17c31-5e8f-4d67-9679-c5705053de69",
    "tags": [],
    "deepnote_cell_type": "markdown",
    "deepnote_cell_height": 62
   }
  },
  {
   "cell_type": "markdown",
   "source": "### ¿Cuántas compañías hay por cada categoría y cuáles son las ventas promedio por Categoría?",
   "metadata": {
    "cell_id": "00058-32c16c88-9b0d-48d3-8d28-809fc87247c1",
    "tags": [],
    "is_collapsed": false,
    "deepnote_cell_type": "text-cell-h3"
   }
  },
  {
   "cell_type": "code",
   "metadata": {
    "cell_id": "10303480-30c2-4dc5-9767-0e097a14ba38",
    "tags": [],
    "deepnote_to_be_reexecuted": false,
    "source_hash": "6b891db7",
    "execution_start": 1649608830191,
    "execution_millis": 1,
    "deepnote_cell_type": "code",
    "deepnote_cell_height": 117
   },
   "source": "category_sales = df.groupby(\"Category\").sum()\ncategory_sales = category_sales[\"Sales\"].reset_index(name='Sales')\ncategory_count = df.groupby(\"Category\").size().reset_index(name='Count')",
   "execution_count": 30,
   "outputs": []
  },
  {
   "cell_type": "code",
   "metadata": {
    "cell_id": "897a2465-289f-4e4d-b4a8-46ebc4f5e4d1",
    "tags": [],
    "deepnote_to_be_reexecuted": false,
    "source_hash": "dc8426c",
    "execution_start": 1649608830311,
    "execution_millis": 12,
    "deepnote_cell_type": "code",
    "deepnote_cell_height": 654
   },
   "source": "result = pd.merge(category_count, category_sales, on=\"Category\")\nresult[\"Average Sales\"] = round(result[\"Sales\"]/result[\"Count\"],0)\nresult = result.sort_values(\"Average Sales\", ascending=False)\nresult[[\"Category\", \"Average Sales\", \"Count\"]]",
   "execution_count": 31,
   "outputs": [
    {
     "output_type": "execute_result",
     "execution_count": 31,
     "data": {
      "application/vnd.deepnote.dataframe.v3+json": {
       "column_count": 3,
       "row_count": 11,
       "columns": [
        {
         "name": "Category",
         "dtype": "object",
         "stats": {
          "unique_count": 11,
          "nan_count": 0,
          "categories": [
           {
            "name": "Supercenters",
            "count": 1
           },
           {
            "name": "Warehouse Club",
            "count": 1
           },
           {
            "name": "9 others",
            "count": 9
           }
          ]
         }
        },
        {
         "name": "Average Sales",
         "dtype": "float64",
         "stats": {
          "unique_count": 11,
          "nan_count": 0,
          "min": "21849.0",
          "max": "248640.0",
          "histogram": [
           {
            "bin_start": 21849,
            "bin_end": 44528.1,
            "count": 5
           },
           {
            "bin_start": 44528.1,
            "bin_end": 67207.2,
            "count": 2
           },
           {
            "bin_start": 67207.2,
            "bin_end": 89886.29999999999,
            "count": 2
           },
           {
            "bin_start": 89886.29999999999,
            "bin_end": 112565.4,
            "count": 1
           },
           {
            "bin_start": 112565.4,
            "bin_end": 135244.5,
            "count": 0
           },
           {
            "bin_start": 135244.5,
            "bin_end": 157923.59999999998,
            "count": 0
           },
           {
            "bin_start": 157923.59999999998,
            "bin_end": 180602.69999999998,
            "count": 0
           },
           {
            "bin_start": 180602.69999999998,
            "bin_end": 203281.8,
            "count": 0
           },
           {
            "bin_start": 203281.8,
            "bin_end": 225960.9,
            "count": 0
           },
           {
            "bin_start": 225960.9,
            "bin_end": 248640,
            "count": 1
           }
          ]
         }
        },
        {
         "name": "Count",
         "dtype": "int64",
         "stats": {
          "unique_count": 4,
          "nan_count": 0,
          "min": "1",
          "max": "7",
          "histogram": [
           {
            "bin_start": 1,
            "bin_end": 1.6,
            "count": 5
           },
           {
            "bin_start": 1.6,
            "bin_end": 2.2,
            "count": 3
           },
           {
            "bin_start": 2.2,
            "bin_end": 2.8,
            "count": 0
           },
           {
            "bin_start": 2.8,
            "bin_end": 3.4,
            "count": 2
           },
           {
            "bin_start": 3.4,
            "bin_end": 4,
            "count": 0
           },
           {
            "bin_start": 4,
            "bin_end": 4.6,
            "count": 0
           },
           {
            "bin_start": 4.6,
            "bin_end": 5.2,
            "count": 0
           },
           {
            "bin_start": 5.2,
            "bin_end": 5.8,
            "count": 0
           },
           {
            "bin_start": 5.8,
            "bin_end": 6.3999999999999995,
            "count": 0
           },
           {
            "bin_start": 6.3999999999999995,
            "bin_end": 7,
            "count": 1
           }
          ]
         }
        },
        {
         "name": "_deepnote_index_column",
         "dtype": "int64"
        }
       ],
       "rows": [
        {
         "Category": "Supercenters",
         "Average Sales": 248640,
         "Count": 3,
         "_deepnote_index_column": 8
        },
        {
         "Category": "Warehouse Club",
         "Average Sales": 90048,
         "Count": 1,
         "_deepnote_index_column": 9
        },
        {
         "Category": "Home Improvement",
         "Average Sales": 72144,
         "Count": 2,
         "_deepnote_index_column": 7
        },
        {
         "Category": "Electronic/Mail Order",
         "Average Sales": 71687,
         "Count": 1,
         "_deepnote_index_column": 4
        },
        {
         "Category": "Drug Stores",
         "Average Sales": 61401,
         "Count": 3,
         "_deepnote_index_column": 3
        },
        {
         "Category": "Warehouse Clubs",
         "Average Sales": 56828,
         "Count": 1,
         "_deepnote_index_column": 10
        },
        {
         "Category": "Grocery",
         "Average Sales": 42452,
         "Count": 7,
         "_deepnote_index_column": 6
        },
        {
         "Category": "Electronics",
         "Average Sales": 34980,
         "Count": 1,
         "_deepnote_index_column": 5
        },
        {
         "Category": "Apparel",
         "Average Sales": 25012,
         "Count": 1,
         "_deepnote_index_column": 0
        },
        {
         "Category": "Department Stores",
         "Average Sales": 22544,
         "Count": 2,
         "_deepnote_index_column": 1
        }
       ]
      },
      "text/plain": "                 Category  Average Sales  Count\n8            Supercenters       248640.0      3\n9          Warehouse Club        90048.0      1\n7        Home Improvement        72144.0      2\n4   Electronic/Mail Order        71687.0      1\n3             Drug Stores        61401.0      3\n10        Warehouse Clubs        56828.0      1\n6                 Grocery        42452.0      7\n5             Electronics        34980.0      1\n0                 Apparel        25012.0      1\n1       Department Stores        22544.0      2\n2           Dollar Stores        21849.0      2",
      "text/html": "<div>\n<style scoped>\n    .dataframe tbody tr th:only-of-type {\n        vertical-align: middle;\n    }\n\n    .dataframe tbody tr th {\n        vertical-align: top;\n    }\n\n    .dataframe thead th {\n        text-align: right;\n    }\n</style>\n<table border=\"1\" class=\"dataframe\">\n  <thead>\n    <tr style=\"text-align: right;\">\n      <th></th>\n      <th>Category</th>\n      <th>Average Sales</th>\n      <th>Count</th>\n    </tr>\n  </thead>\n  <tbody>\n    <tr>\n      <th>8</th>\n      <td>Supercenters</td>\n      <td>248640.0</td>\n      <td>3</td>\n    </tr>\n    <tr>\n      <th>9</th>\n      <td>Warehouse Club</td>\n      <td>90048.0</td>\n      <td>1</td>\n    </tr>\n    <tr>\n      <th>7</th>\n      <td>Home Improvement</td>\n      <td>72144.0</td>\n      <td>2</td>\n    </tr>\n    <tr>\n      <th>4</th>\n      <td>Electronic/Mail Order</td>\n      <td>71687.0</td>\n      <td>1</td>\n    </tr>\n    <tr>\n      <th>3</th>\n      <td>Drug Stores</td>\n      <td>61401.0</td>\n      <td>3</td>\n    </tr>\n    <tr>\n      <th>10</th>\n      <td>Warehouse Clubs</td>\n      <td>56828.0</td>\n      <td>1</td>\n    </tr>\n    <tr>\n      <th>6</th>\n      <td>Grocery</td>\n      <td>42452.0</td>\n      <td>7</td>\n    </tr>\n    <tr>\n      <th>5</th>\n      <td>Electronics</td>\n      <td>34980.0</td>\n      <td>1</td>\n    </tr>\n    <tr>\n      <th>0</th>\n      <td>Apparel</td>\n      <td>25012.0</td>\n      <td>1</td>\n    </tr>\n    <tr>\n      <th>1</th>\n      <td>Department Stores</td>\n      <td>22544.0</td>\n      <td>2</td>\n    </tr>\n    <tr>\n      <th>2</th>\n      <td>Dollar Stores</td>\n      <td>21849.0</td>\n      <td>2</td>\n    </tr>\n  </tbody>\n</table>\n</div>"
     },
     "metadata": {}
    }
   ]
  },
  {
   "cell_type": "code",
   "metadata": {
    "cell_id": "ca306dcd-b772-4b24-874d-e685dfe178f4",
    "tags": [],
    "deepnote_to_be_reexecuted": false,
    "source_hash": "68a4399f",
    "execution_start": 1649608830324,
    "execution_millis": 436,
    "deepnote_cell_type": "code",
    "deepnote_cell_height": 758,
    "deepnote_output_heights": [
     null,
     375
    ]
   },
   "source": "fig, ax1 = plt.subplots()\n\nax1.bar(result[\"Category\"], result[\"Average Sales\"])\nax1.set_xlabel(\"Categorías\")\nax1.set_ylabel(\"Ventas Promedio\")\nax1.set_xticklabels(result[\"Category\"],rotation=90)\n\nax2 = ax1.twinx() \nax2.set_ylabel(\"Cantidad de Tiendas\")\nax2.plot(result[\"Category\"], result[\"Count\"], color=\"red\")\n\nplt.title('Total de Compañías y Ventas Promedio por Categoría')\nplt.show()",
   "execution_count": 32,
   "outputs": [
    {
     "name": "stderr",
     "text": "/shared-libs/python3.7/py-core/lib/python3.7/site-packages/ipykernel_launcher.py:6: UserWarning: FixedFormatter should only be used together with FixedLocator\n  \n",
     "output_type": "stream"
    },
    {
     "data": {
      "text/plain": "<Figure size 432x288 with 2 Axes>",
      "image/png": "[encoded data removed]"
     },
     "metadata": {
      "needs_background": "light",
      "image/png": {
       "width": 435,
       "height": 373
      }
     },
     "output_type": "display_data"
    }
   ]
  },
  {
   "cell_type": "markdown",
   "source": "Podemos observar que la categoría de **Supercenters** predomina considerablemente sobre las demás. Esto se debe a que en este grupo se encuentra Wallmart US, lo que nos distorsiona un poco el análisis al ser un valor muy alejado de los demás.\n\nEs por esto que vamos a volver a hacer el análisis sin considerar a **Wallmart US**",
   "metadata": {
    "cell_id": "533af683-4145-4e4d-a7c6-fd0d24560acb",
    "tags": [],
    "deepnote_cell_type": "markdown",
    "deepnote_cell_height": 133.59375
   }
  },
  {
   "cell_type": "code",
   "metadata": {
    "cell_id": "00063-ba89963b-338a-426c-b420-0c9985e6beee",
    "tags": [],
    "deepnote_to_be_reexecuted": false,
    "source_hash": "8d4d39db",
    "allow_embed": false,
    "execution_start": 1649608830766,
    "execution_millis": 6,
    "deepnote_cell_type": "code",
    "deepnote_cell_height": 117
   },
   "source": "category_sales_no_wallmart = df[1:].groupby(\"Category\").sum()\ncategory_sales_no_wallmart = category_sales_no_wallmart[\"Sales\"].reset_index(name='Sales')\ncategory_count_no_wallmart = df[1:].groupby(\"Category\").size().reset_index(name='Count')",
   "execution_count": 33,
   "outputs": []
  },
  {
   "cell_type": "code",
   "metadata": {
    "cell_id": "00064-75135e73-4912-4976-9113-9aee66a041a1",
    "tags": [],
    "deepnote_to_be_reexecuted": false,
    "source_hash": "d5a24388",
    "allow_embed": false,
    "execution_start": 1649608830795,
    "execution_millis": 63,
    "deepnote_cell_type": "code",
    "deepnote_cell_height": 654
   },
   "source": "result_no_wallmart = pd.merge(category_count_no_wallmart, category_sales_no_wallmart, on=\"Category\")\nresult_no_wallmart[\"Average Sales\"] = round(result_no_wallmart[\"Sales\"]/result_no_wallmart[\"Count\"],0)\nresult_no_wallmart = result_no_wallmart.sort_values(\"Average Sales\", ascending=False)\nresult_no_wallmart[[\"Category\", \"Average Sales\", \"Count\"]]",
   "execution_count": 34,
   "outputs": [
    {
     "output_type": "execute_result",
     "execution_count": 34,
     "data": {
      "application/vnd.deepnote.dataframe.v3+json": {
       "column_count": 3,
       "row_count": 11,
       "columns": [
        {
         "name": "Category",
         "dtype": "object",
         "stats": {
          "unique_count": 11,
          "nan_count": 0,
          "categories": [
           {
            "name": "Warehouse Club",
            "count": 1
           },
           {
            "name": "Home Improvement",
            "count": 1
           },
           {
            "name": "9 others",
            "count": 9
           }
          ]
         }
        },
        {
         "name": "Average Sales",
         "dtype": "float64",
         "stats": {
          "unique_count": 11,
          "nan_count": 0,
          "min": "21849.0",
          "max": "90048.0",
          "histogram": [
           {
            "bin_start": 21849,
            "bin_end": 28668.9,
            "count": 3
           },
           {
            "bin_start": 28668.9,
            "bin_end": 35488.8,
            "count": 1
           },
           {
            "bin_start": 35488.8,
            "bin_end": 42308.7,
            "count": 0
           },
           {
            "bin_start": 42308.7,
            "bin_end": 49128.6,
            "count": 2
           },
           {
            "bin_start": 49128.6,
            "bin_end": 55948.5,
            "count": 0
           },
           {
            "bin_start": 55948.5,
            "bin_end": 62768.399999999994,
            "count": 2
           },
           {
            "bin_start": 62768.399999999994,
            "bin_end": 69588.29999999999,
            "count": 0
           },
           {
            "bin_start": 69588.29999999999,
            "bin_end": 76408.2,
            "count": 2
           },
           {
            "bin_start": 76408.2,
            "bin_end": 83228.1,
            "count": 0
           },
           {
            "bin_start": 83228.1,
            "bin_end": 90048,
            "count": 1
           }
          ]
         }
        },
        {
         "name": "Count",
         "dtype": "int64",
         "stats": {
          "unique_count": 4,
          "nan_count": 0,
          "min": "1",
          "max": "7",
          "histogram": [
           {
            "bin_start": 1,
            "bin_end": 1.6,
            "count": 5
           },
           {
            "bin_start": 1.6,
            "bin_end": 2.2,
            "count": 4
           },
           {
            "bin_start": 2.2,
            "bin_end": 2.8,
            "count": 0
           },
           {
            "bin_start": 2.8,
            "bin_end": 3.4,
            "count": 1
           },
           {
            "bin_start": 3.4,
            "bin_end": 4,
            "count": 0
           },
           {
            "bin_start": 4,
            "bin_end": 4.6,
            "count": 0
           },
           {
            "bin_start": 4.6,
            "bin_end": 5.2,
            "count": 0
           },
           {
            "bin_start": 5.2,
            "bin_end": 5.8,
            "count": 0
           },
           {
            "bin_start": 5.8,
            "bin_end": 6.3999999999999995,
            "count": 0
           },
           {
            "bin_start": 6.3999999999999995,
            "bin_end": 7,
            "count": 1
           }
          ]
         }
        },
        {
         "name": "_deepnote_index_column",
         "dtype": "int64"
        }
       ],
       "rows": [
        {
         "Category": "Warehouse Club",
         "Average Sales": 90048,
         "Count": 1,
         "_deepnote_index_column": 9
        },
        {
         "Category": "Home Improvement",
         "Average Sales": 72144,
         "Count": 2,
         "_deepnote_index_column": 7
        },
        {
         "Category": "Electronic/Mail Order",
         "Average Sales": 71687,
         "Count": 1,
         "_deepnote_index_column": 4
        },
        {
         "Category": "Drug Stores",
         "Average Sales": 61401,
         "Count": 3,
         "_deepnote_index_column": 3
        },
        {
         "Category": "Warehouse Clubs",
         "Average Sales": 56828,
         "Count": 1,
         "_deepnote_index_column": 10
        },
        {
         "Category": "Supercenters",
         "Average Sales": 43900,
         "Count": 2,
         "_deepnote_index_column": 8
        },
        {
         "Category": "Grocery",
         "Average Sales": 42452,
         "Count": 7,
         "_deepnote_index_column": 6
        },
        {
         "Category": "Electronics",
         "Average Sales": 34980,
         "Count": 1,
         "_deepnote_index_column": 5
        },
        {
         "Category": "Apparel",
         "Average Sales": 25012,
         "Count": 1,
         "_deepnote_index_column": 0
        },
        {
         "Category": "Department Stores",
         "Average Sales": 22544,
         "Count": 2,
         "_deepnote_index_column": 1
        }
       ]
      },
      "text/plain": "                 Category  Average Sales  Count\n9          Warehouse Club        90048.0      1\n7        Home Improvement        72144.0      2\n4   Electronic/Mail Order        71687.0      1\n3             Drug Stores        61401.0      3\n10        Warehouse Clubs        56828.0      1\n8            Supercenters        43900.0      2\n6                 Grocery        42452.0      7\n5             Electronics        34980.0      1\n0                 Apparel        25012.0      1\n1       Department Stores        22544.0      2\n2           Dollar Stores        21849.0      2",
      "text/html": "<div>\n<style scoped>\n    .dataframe tbody tr th:only-of-type {\n        vertical-align: middle;\n    }\n\n    .dataframe tbody tr th {\n        vertical-align: top;\n    }\n\n    .dataframe thead th {\n        text-align: right;\n    }\n</style>\n<table border=\"1\" class=\"dataframe\">\n  <thead>\n    <tr style=\"text-align: right;\">\n      <th></th>\n      <th>Category</th>\n      <th>Average Sales</th>\n      <th>Count</th>\n    </tr>\n  </thead>\n  <tbody>\n    <tr>\n      <th>9</th>\n      <td>Warehouse Club</td>\n      <td>90048.0</td>\n      <td>1</td>\n    </tr>\n    <tr>\n      <th>7</th>\n      <td>Home Improvement</td>\n      <td>72144.0</td>\n      <td>2</td>\n    </tr>\n    <tr>\n      <th>4</th>\n      <td>Electronic/Mail Order</td>\n      <td>71687.0</td>\n      <td>1</td>\n    </tr>\n    <tr>\n      <th>3</th>\n      <td>Drug Stores</td>\n      <td>61401.0</td>\n      <td>3</td>\n    </tr>\n    <tr>\n      <th>10</th>\n      <td>Warehouse Clubs</td>\n      <td>56828.0</td>\n      <td>1</td>\n    </tr>\n    <tr>\n      <th>8</th>\n      <td>Supercenters</td>\n      <td>43900.0</td>\n      <td>2</td>\n    </tr>\n    <tr>\n      <th>6</th>\n      <td>Grocery</td>\n      <td>42452.0</td>\n      <td>7</td>\n    </tr>\n    <tr>\n      <th>5</th>\n      <td>Electronics</td>\n      <td>34980.0</td>\n      <td>1</td>\n    </tr>\n    <tr>\n      <th>0</th>\n      <td>Apparel</td>\n      <td>25012.0</td>\n      <td>1</td>\n    </tr>\n    <tr>\n      <th>1</th>\n      <td>Department Stores</td>\n      <td>22544.0</td>\n      <td>2</td>\n    </tr>\n    <tr>\n      <th>2</th>\n      <td>Dollar Stores</td>\n      <td>21849.0</td>\n      <td>2</td>\n    </tr>\n  </tbody>\n</table>\n</div>"
     },
     "metadata": {}
    }
   ]
  },
  {
   "cell_type": "code",
   "metadata": {
    "cell_id": "00065-e391c4c0-26af-4ddc-a4d5-a452c46bb4c1",
    "tags": [],
    "deepnote_to_be_reexecuted": false,
    "source_hash": "b975cca4",
    "allow_embed": false,
    "execution_start": 1649608830837,
    "execution_millis": 608,
    "deepnote_cell_type": "code",
    "deepnote_cell_height": 758,
    "deepnote_output_heights": [
     null,
     375
    ]
   },
   "source": "fig, ax1 = plt.subplots()\n\nax1.bar(result_no_wallmart[\"Category\"], result_no_wallmart[\"Average Sales\"])\nax1.set_xlabel(\"Categorías\")\nax1.set_ylabel(\"Ventas Promedio\")\nax1.set_xticklabels(result_no_wallmart[\"Category\"],rotation=90)\n\nax2 = ax1.twinx() \nax2.set_ylabel(\"Cantidad de Tiendas\")\nax2.plot(result_no_wallmart[\"Category\"], result_no_wallmart[\"Count\"], color=\"red\")\n\nplt.title('Total de Compañías y Ventas Promedio por Categoría')\nplt.show()",
   "execution_count": 35,
   "outputs": [
    {
     "name": "stderr",
     "text": "/shared-libs/python3.7/py-core/lib/python3.7/site-packages/ipykernel_launcher.py:6: UserWarning: FixedFormatter should only be used together with FixedLocator\n  \n",
     "output_type": "stream"
    },
    {
     "data": {
      "text/plain": "<Figure size 432x288 with 2 Axes>",
      "image/png": "[encoded data removed]"
     },
     "metadata": {
      "needs_background": "light",
      "image/png": {
       "width": 428,
       "height": 373
      }
     },
     "output_type": "display_data"
    }
   ]
  },
  {
   "cell_type": "code",
   "metadata": {
    "cell_id": "63cd76ad-358e-473e-8f65-736716598238",
    "tags": [],
    "deepnote_to_be_reexecuted": false,
    "source_hash": "e0429c10",
    "execution_start": 1649608831255,
    "execution_millis": 194,
    "deepnote_cell_type": "code",
    "deepnote_cell_height": 156,
    "deepnote_output_heights": [
     40.390625
    ]
   },
   "source": "warehouse_company = df[df.Category == 'Warehouse Club']\nwarehouse_company[\"Company\"]",
   "execution_count": 36,
   "outputs": [
    {
     "output_type": "execute_result",
     "execution_count": 36,
     "data": {
      "text/plain": "2    Costco\nName: Company, dtype: object"
     },
     "metadata": {}
    }
   ]
  },
  {
   "cell_type": "markdown",
   "source": "Podemos observar como al analizar las categorías por la cantidad de compañías que tienen y sus ventas promedio, la categoría que resalta es **Warehouse Club**, donde la compañía **Costco** es la que ha generado todas las ventas de esta categoría, siendo también la compañía con mejores ventas promedio por tienda.",
   "metadata": {
    "cell_id": "4e3bcef5-14f7-4325-8da8-79c0259e1e8c",
    "tags": [],
    "deepnote_to_be_reexecuted": false,
    "source_hash": "c1821bae",
    "execution_start": 1645674304078,
    "execution_millis": 5,
    "deepnote_cell_type": "markdown",
    "deepnote_cell_height": 119.59375
   }
  },
  {
   "cell_type": "markdown",
   "source": "### Conclusiones",
   "metadata": {
    "cell_id": "95de7a09-cf99-4d4c-86ed-b506e94ed508",
    "tags": [],
    "is_collapsed": false,
    "deepnote_cell_type": "text-cell-h3"
   }
  },
  {
   "cell_type": "markdown",
   "source": "Podemos concluir que **Wallmart US** tienen un dominio de mercado muy marcado, por lo que no podemos enfocarnos que competir contra esta compañía como primer paso.\n\n#### Ventas\nSobre las ventas, aunque el promedio de ventas esté arriba de **46,000 millones de dolares**, la mayor cantidad de compañías no pasan de **30,000 millones de dolares**.\n\nTampoco se ve una relación directa entre la cantidad de tiendas y las ventas de las Compañías\n\n#### Tiendas\nLas compañías con mejores ventas promedio por tienda son **Costco, Wallmart US y Sam`s Club**\n\nAdicionalmente se nota que las compañías con más tiendas **NO** tienen las mayores ventas, y se pudo comprobar que **NO** existe una relación entre la cantiddad de tiendas y las ventas promedio por tienda.\n\n#### Compañías Dominantes\nPodemos notar que las compañías importantes del sector son **Costco (Mejores ventas promedio por tienda), Kroger (Compañía número uno en la categoría de Grocery), Wallgreens Boots (Número uno en la categoría de Drug Stores)**, sin considerar a Wallmart US\n\n#### Categorías\nConsiderar que las principales categorías en ventas totales son **Grocery, Drug Stores y Home Improvement**, esto si no consideramos a Wallmart US en el análisis.\n\nY que las principales categorías en ventas promedio por tiendas son **Warehause Club, Home Improvement y Electronic/Mail Order**, tampoco consideramos a Wallmart US en este segmento",
   "metadata": {
    "cell_id": "6a5ed45b-4420-4171-b2b6-534bcb25712f",
    "tags": [],
    "deepnote_cell_type": "markdown",
    "deepnote_cell_height": 625.96875
   }
  },
  {
   "cell_type": "markdown",
   "source": "<a style='text-decoration:none;line-height:16px;display:flex;color:#5B5B62;padding:10px;justify-content:end;' href='https://deepnote.com?utm_source=created-in-deepnote-cell&projectId=300d8081-1dde-4a49-9db6-8e7bb8605fb4' target=\"_blank\">\n<img alt='Created in deepnote.com' style='display:inline;max-height:16px;margin:0px;margin-right:7.5px;' src='data:image/svg+xml;base64,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' > </img>\nCreated in <span style='font-weight:600;margin-left:4px;'>Deepnote</span></a>",
   "metadata": {
    "tags": [],
    "created_in_deepnote_cell": true,
    "deepnote_cell_type": "markdown"
   }
  }
 ],
 "nbformat": 4,
 "nbformat_minor": 2,
 "metadata": {
  "orig_nbformat": 2,
  "deepnote": {
   "is_reactive": false
  },
  "deepnote_notebook_id": "85b76ea9-ace4-4c85-8b21-59120be91703",
  "deepnote_execution_queue": []
 }
}